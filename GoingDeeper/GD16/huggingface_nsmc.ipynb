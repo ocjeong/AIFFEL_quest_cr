{
 "cells": [
  {
   "cell_type": "markdown",
   "id": "290816b9",
   "metadata": {},
   "source": [
    "# NSMC task using Huggingface Transformers"
   ]
  },
  {
   "cell_type": "markdown",
   "id": "37bc5a7f",
   "metadata": {},
   "source": [
    "__할 일__\n",
    "  - 레이어 프리징\n"
   ]
  },
  {
   "cell_type": "markdown",
   "id": "79d1e94a",
   "metadata": {},
   "source": [
    "__한 일__\n",
    "  - test 용 dataset shard 만들기 (배치사이즈 8일떄 1에포크 약 2분)\n",
    "  - Drop raw text column from input (GPU메모리에 영향 없음)\n",
    "  - 체크포인트 저장 (자동저장 된 체크포인트들 로딩 문제 없음)\n",
    "  - bucketing과 dynamic padding이 무엇인지 알아보고, 이들을 적용하여 model을 학습\n",
    "  - 가장 긴 토큰 길이 구하기; max_length 세팅\n",
    "  - train-eval split\n"
   ]
  },
  {
   "cell_type": "markdown",
   "id": "8d0d39e7",
   "metadata": {},
   "source": [
    "__결과__\n",
    "  - 의도인지는 모르지만 huggingface의 기본 모듈 구현이 파이토치 베이스여서 LMS 예제도 파이토치를 썼다.\n",
    "  - bucketing과 dynamic padding이 생각보다 연산 효율이 좋은 것 같다.\n",
    "  - 메모리 효율도 상당한 것 같고. (배치 사이즈 4배까지 가능했음.)\n",
    "  - 더 나은 성능을 위해 우선 정확도 0.9 에서 맞추지 못한 샘플이 뭔지 꺼내볼 필요가 있는 것 같다."
   ]
  },
  {
   "cell_type": "raw",
   "id": "1ef43a7e",
   "metadata": {},
   "source": [
    "!python -c \"from transformers import pipeline; print(pipeline('sentiment-analysis')('I love you'))\""
   ]
  },
  {
   "cell_type": "raw",
   "id": "b53e4716",
   "metadata": {
    "collapsed": true
   },
   "source": [
    "# !pip uninstall transformers -y\n",
    "# !pip install transformers\n",
    "!mkdir -p transformers"
   ]
  },
  {
   "cell_type": "code",
   "execution_count": 1,
   "id": "a75283db",
   "metadata": {},
   "outputs": [],
   "source": [
    "import os\n",
    "import numpy as np\n",
    "import matplotlib.pyplot as plt\n",
    "\n",
    "from transformers import Trainer, TrainingArguments\n",
    "\n",
    "import datasets\n",
    "from datasets import load_dataset"
   ]
  },
  {
   "cell_type": "code",
   "execution_count": 2,
   "id": "8d6fffe6",
   "metadata": {
    "collapsed": true
   },
   "outputs": [
    {
     "data": {
      "application/vnd.jupyter.widget-view+json": {
       "model_id": "fdc0326098554b54a0e70aaa2044bdee",
       "version_major": 2,
       "version_minor": 0
      },
      "text/plain": [
       "Downloading:   0%|          | 0.00/1.36k [00:00<?, ?B/s]"
      ]
     },
     "metadata": {},
     "output_type": "display_data"
    },
    {
     "data": {
      "application/vnd.jupyter.widget-view+json": {
       "model_id": "0711d6353afb44dd8c850a957ac6d418",
       "version_major": 2,
       "version_minor": 0
      },
      "text/plain": [
       "Downloading:   0%|          | 0.00/807 [00:00<?, ?B/s]"
      ]
     },
     "metadata": {},
     "output_type": "display_data"
    },
    {
     "name": "stderr",
     "output_type": "stream",
     "text": [
      "Using custom data configuration default\n"
     ]
    },
    {
     "name": "stdout",
     "output_type": "stream",
     "text": [
      "Downloading and preparing dataset nsmc/default (download: 18.62 MiB, generated: 20.90 MiB, post-processed: Unknown size, total: 39.52 MiB) to /aiffel/.cache/huggingface/datasets/nsmc/default/1.1.0/bfd4729bf1a67114e5267e6916b9e4807010aeb238e4a3c2b95fbfa3a014b5f3...\n"
     ]
    },
    {
     "data": {
      "application/vnd.jupyter.widget-view+json": {
       "model_id": "2bfe4ac085b64d968d9744b41f83d11a",
       "version_major": 2,
       "version_minor": 0
      },
      "text/plain": [
       "  0%|          | 0/2 [00:00<?, ?it/s]"
      ]
     },
     "metadata": {},
     "output_type": "display_data"
    },
    {
     "data": {
      "application/vnd.jupyter.widget-view+json": {
       "model_id": "3ab51dba4d7b410cb5062c8b7135fe89",
       "version_major": 2,
       "version_minor": 0
      },
      "text/plain": [
       "Downloading:   0%|          | 0.00/6.33M [00:00<?, ?B/s]"
      ]
     },
     "metadata": {},
     "output_type": "display_data"
    },
    {
     "data": {
      "application/vnd.jupyter.widget-view+json": {
       "model_id": "b5e73160665047bdb1edbe2da03a1217",
       "version_major": 2,
       "version_minor": 0
      },
      "text/plain": [
       "Downloading:   0%|          | 0.00/4.89M [00:00<?, ?B/s]"
      ]
     },
     "metadata": {},
     "output_type": "display_data"
    },
    {
     "data": {
      "application/vnd.jupyter.widget-view+json": {
       "model_id": "f54ee70b9d0e4c80b1e0ed5b5a39a722",
       "version_major": 2,
       "version_minor": 0
      },
      "text/plain": [
       "  0%|          | 0/2 [00:00<?, ?it/s]"
      ]
     },
     "metadata": {},
     "output_type": "display_data"
    },
    {
     "data": {
      "application/vnd.jupyter.widget-view+json": {
       "model_id": "",
       "version_major": 2,
       "version_minor": 0
      },
      "text/plain": [
       "0 examples [00:00, ? examples/s]"
      ]
     },
     "metadata": {},
     "output_type": "display_data"
    },
    {
     "data": {
      "application/vnd.jupyter.widget-view+json": {
       "model_id": "",
       "version_major": 2,
       "version_minor": 0
      },
      "text/plain": [
       "0 examples [00:00, ? examples/s]"
      ]
     },
     "metadata": {},
     "output_type": "display_data"
    },
    {
     "name": "stdout",
     "output_type": "stream",
     "text": [
      "Dataset nsmc downloaded and prepared to /aiffel/.cache/huggingface/datasets/nsmc/default/1.1.0/bfd4729bf1a67114e5267e6916b9e4807010aeb238e4a3c2b95fbfa3a014b5f3. Subsequent calls will reuse this data.\n"
     ]
    },
    {
     "data": {
      "application/vnd.jupyter.widget-view+json": {
       "model_id": "35cf8ec718964145bf1b449c880c885a",
       "version_major": 2,
       "version_minor": 0
      },
      "text/plain": [
       "  0%|          | 0/2 [00:00<?, ?it/s]"
      ]
     },
     "metadata": {},
     "output_type": "display_data"
    },
    {
     "name": "stdout",
     "output_type": "stream",
     "text": [
      "DatasetDict({\n",
      "    train: Dataset({\n",
      "        features: ['id', 'document', 'label'],\n",
      "        num_rows: 150000\n",
      "    })\n",
      "    test: Dataset({\n",
      "        features: ['id', 'document', 'label'],\n",
      "        num_rows: 50000\n",
      "    })\n",
      "})\n"
     ]
    }
   ],
   "source": [
    "huggingface_nsmc_dataset = load_dataset('nsmc')\n",
    "print(huggingface_nsmc_dataset)"
   ]
  },
  {
   "cell_type": "markdown",
   "id": "5fd186ff",
   "metadata": {},
   "source": [
    "### 모델 로드 - baseline"
   ]
  },
  {
   "cell_type": "code",
   "execution_count": 3,
   "id": "b2902cd2",
   "metadata": {
    "collapsed": true
   },
   "outputs": [
    {
     "data": {
      "application/vnd.jupyter.widget-view+json": {
       "model_id": "8140bdd9bb7e4da5b2734d62b8380fbd",
       "version_major": 2,
       "version_minor": 0
      },
      "text/plain": [
       "Downloading:   0%|          | 0.00/289 [00:00<?, ?B/s]"
      ]
     },
     "metadata": {},
     "output_type": "display_data"
    },
    {
     "data": {
      "application/vnd.jupyter.widget-view+json": {
       "model_id": "46ed7726d2f74962a217fb064795cfd1",
       "version_major": 2,
       "version_minor": 0
      },
      "text/plain": [
       "Downloading:   0%|          | 0.00/425 [00:00<?, ?B/s]"
      ]
     },
     "metadata": {},
     "output_type": "display_data"
    },
    {
     "data": {
      "application/vnd.jupyter.widget-view+json": {
       "model_id": "0de87b0ca4ab41329c46092b472c37f4",
       "version_major": 2,
       "version_minor": 0
      },
      "text/plain": [
       "Downloading:   0%|          | 0.00/243k [00:00<?, ?B/s]"
      ]
     },
     "metadata": {},
     "output_type": "display_data"
    },
    {
     "data": {
      "application/vnd.jupyter.widget-view+json": {
       "model_id": "c663daac4b0841fcb2681c681d966c94",
       "version_major": 2,
       "version_minor": 0
      },
      "text/plain": [
       "Downloading:   0%|          | 0.00/483k [00:00<?, ?B/s]"
      ]
     },
     "metadata": {},
     "output_type": "display_data"
    },
    {
     "data": {
      "application/vnd.jupyter.widget-view+json": {
       "model_id": "5fda4b7bbd3a48c2bd2da449836dee66",
       "version_major": 2,
       "version_minor": 0
      },
      "text/plain": [
       "Downloading:   0%|          | 0.00/125 [00:00<?, ?B/s]"
      ]
     },
     "metadata": {},
     "output_type": "display_data"
    },
    {
     "data": {
      "application/vnd.jupyter.widget-view+json": {
       "model_id": "cdeb10e6ae8c4643858eb4ca409947da",
       "version_major": 2,
       "version_minor": 0
      },
      "text/plain": [
       "Downloading:   0%|          | 0.00/424M [00:00<?, ?B/s]"
      ]
     },
     "metadata": {},
     "output_type": "display_data"
    },
    {
     "name": "stderr",
     "output_type": "stream",
     "text": [
      "Some weights of the model checkpoint at klue/bert-base were not used when initializing BertForSequenceClassification: ['cls.predictions.transform.LayerNorm.bias', 'cls.predictions.transform.LayerNorm.weight', 'cls.seq_relationship.bias', 'cls.predictions.decoder.weight', 'cls.seq_relationship.weight', 'cls.predictions.transform.dense.weight', 'cls.predictions.decoder.bias', 'cls.predictions.bias', 'cls.predictions.transform.dense.bias']\n",
      "- This IS expected if you are initializing BertForSequenceClassification from the checkpoint of a model trained on another task or with another architecture (e.g. initializing a BertForSequenceClassification model from a BertForPreTraining model).\n",
      "- This IS NOT expected if you are initializing BertForSequenceClassification from the checkpoint of a model that you expect to be exactly identical (initializing a BertForSequenceClassification model from a BertForSequenceClassification model).\n",
      "Some weights of BertForSequenceClassification were not initialized from the model checkpoint at klue/bert-base and are newly initialized: ['classifier.bias', 'classifier.weight']\n",
      "You should probably TRAIN this model on a down-stream task to be able to use it for predictions and inference.\n"
     ]
    }
   ],
   "source": [
    "import transformers\n",
    "from transformers import AutoTokenizer, AutoModelForSequenceClassification\n",
    "\n",
    "huggingface_tokenizer = AutoTokenizer.from_pretrained('klue/bert-base')\n",
    "huggingface_model = AutoModelForSequenceClassification.from_pretrained(\n",
    "                                        'klue/bert-base', num_labels = 2 )"
   ]
  },
  {
   "cell_type": "code",
   "execution_count": 4,
   "id": "abd654a7",
   "metadata": {
    "scrolled": true
   },
   "outputs": [
    {
     "data": {
      "text/plain": [
       "BertConfig {\n",
       "  \"_name_or_path\": \"klue/bert-base\",\n",
       "  \"architectures\": [\n",
       "    \"BertForMaskedLM\"\n",
       "  ],\n",
       "  \"attention_probs_dropout_prob\": 0.1,\n",
       "  \"classifier_dropout\": null,\n",
       "  \"hidden_act\": \"gelu\",\n",
       "  \"hidden_dropout_prob\": 0.1,\n",
       "  \"hidden_size\": 768,\n",
       "  \"initializer_range\": 0.02,\n",
       "  \"intermediate_size\": 3072,\n",
       "  \"layer_norm_eps\": 1e-12,\n",
       "  \"max_position_embeddings\": 512,\n",
       "  \"model_type\": \"bert\",\n",
       "  \"num_attention_heads\": 12,\n",
       "  \"num_hidden_layers\": 12,\n",
       "  \"pad_token_id\": 0,\n",
       "  \"position_embedding_type\": \"absolute\",\n",
       "  \"transformers_version\": \"4.11.3\",\n",
       "  \"type_vocab_size\": 2,\n",
       "  \"use_cache\": true,\n",
       "  \"vocab_size\": 32000\n",
       "}"
      ]
     },
     "execution_count": 4,
     "metadata": {},
     "output_type": "execute_result"
    }
   ],
   "source": [
    "huggingface_model.config"
   ]
  },
  {
   "cell_type": "code",
   "execution_count": 9,
   "id": "02b5ceca",
   "metadata": {},
   "outputs": [
    {
     "name": "stdout",
     "output_type": "stream",
     "text": [
      "bert.embeddings.word_embeddings.weight --- torch.Size([32000, 768])\n",
      "bert.embeddings.position_embeddings.weight --- torch.Size([512, 768])\n",
      "bert.embeddings.token_type_embeddings.weight --- torch.Size([2, 768])\n",
      "bert.embeddings.LayerNorm.weight --- torch.Size([768])\n",
      "bert.embeddings.LayerNorm.bias --- torch.Size([768])\n",
      "bert.encoder.layer.0.attention.self.query.weight --- torch.Size([768, 768])\n",
      "bert.encoder.layer.0.attention.self.query.bias --- torch.Size([768])\n",
      "bert.encoder.layer.0.attention.self.key.weight --- torch.Size([768, 768])\n",
      "bert.encoder.layer.0.attention.self.key.bias --- torch.Size([768])\n",
      "bert.encoder.layer.0.attention.self.value.weight --- torch.Size([768, 768])\n",
      "bert.encoder.layer.0.attention.self.value.bias --- torch.Size([768])\n",
      "bert.encoder.layer.0.attention.output.dense.weight --- torch.Size([768, 768])\n",
      "bert.encoder.layer.0.attention.output.dense.bias --- torch.Size([768])\n",
      "bert.encoder.layer.0.attention.output.LayerNorm.weight --- torch.Size([768])\n",
      "bert.encoder.layer.0.attention.output.LayerNorm.bias --- torch.Size([768])\n",
      "bert.encoder.layer.0.intermediate.dense.weight --- torch.Size([3072, 768])\n",
      "bert.encoder.layer.0.intermediate.dense.bias --- torch.Size([3072])\n",
      "bert.encoder.layer.0.output.dense.weight --- torch.Size([768, 3072])\n",
      "bert.encoder.layer.0.output.dense.bias --- torch.Size([768])\n",
      "bert.encoder.layer.0.output.LayerNorm.weight --- torch.Size([768])\n",
      "bert.encoder.layer.0.output.LayerNorm.bias --- torch.Size([768])\n",
      "bert.encoder.layer.1.attention.self.query.weight --- torch.Size([768, 768])\n",
      "bert.encoder.layer.1.attention.self.query.bias --- torch.Size([768])\n",
      "bert.encoder.layer.1.attention.self.key.weight --- torch.Size([768, 768])\n",
      "bert.encoder.layer.1.attention.self.key.bias --- torch.Size([768])\n",
      "bert.encoder.layer.1.attention.self.value.weight --- torch.Size([768, 768])\n",
      "bert.encoder.layer.1.attention.self.value.bias --- torch.Size([768])\n",
      "bert.encoder.layer.1.attention.output.dense.weight --- torch.Size([768, 768])\n",
      "bert.encoder.layer.1.attention.output.dense.bias --- torch.Size([768])\n",
      "bert.encoder.layer.1.attention.output.LayerNorm.weight --- torch.Size([768])\n",
      "bert.encoder.layer.1.attention.output.LayerNorm.bias --- torch.Size([768])\n",
      "bert.encoder.layer.1.intermediate.dense.weight --- torch.Size([3072, 768])\n",
      "bert.encoder.layer.1.intermediate.dense.bias --- torch.Size([3072])\n",
      "bert.encoder.layer.1.output.dense.weight --- torch.Size([768, 3072])\n",
      "bert.encoder.layer.1.output.dense.bias --- torch.Size([768])\n",
      "bert.encoder.layer.1.output.LayerNorm.weight --- torch.Size([768])\n",
      "bert.encoder.layer.1.output.LayerNorm.bias --- torch.Size([768])\n",
      "bert.encoder.layer.2.attention.self.query.weight --- torch.Size([768, 768])\n",
      "bert.encoder.layer.2.attention.self.query.bias --- torch.Size([768])\n",
      "bert.encoder.layer.2.attention.self.key.weight --- torch.Size([768, 768])\n",
      "bert.encoder.layer.2.attention.self.key.bias --- torch.Size([768])\n",
      "bert.encoder.layer.2.attention.self.value.weight --- torch.Size([768, 768])\n",
      "bert.encoder.layer.2.attention.self.value.bias --- torch.Size([768])\n",
      "bert.encoder.layer.2.attention.output.dense.weight --- torch.Size([768, 768])\n",
      "bert.encoder.layer.2.attention.output.dense.bias --- torch.Size([768])\n",
      "bert.encoder.layer.2.attention.output.LayerNorm.weight --- torch.Size([768])\n",
      "bert.encoder.layer.2.attention.output.LayerNorm.bias --- torch.Size([768])\n",
      "bert.encoder.layer.2.intermediate.dense.weight --- torch.Size([3072, 768])\n",
      "bert.encoder.layer.2.intermediate.dense.bias --- torch.Size([3072])\n",
      "bert.encoder.layer.2.output.dense.weight --- torch.Size([768, 3072])\n",
      "bert.encoder.layer.2.output.dense.bias --- torch.Size([768])\n",
      "bert.encoder.layer.2.output.LayerNorm.weight --- torch.Size([768])\n",
      "bert.encoder.layer.2.output.LayerNorm.bias --- torch.Size([768])\n",
      "bert.encoder.layer.3.attention.self.query.weight --- torch.Size([768, 768])\n",
      "bert.encoder.layer.3.attention.self.query.bias --- torch.Size([768])\n",
      "bert.encoder.layer.3.attention.self.key.weight --- torch.Size([768, 768])\n",
      "bert.encoder.layer.3.attention.self.key.bias --- torch.Size([768])\n",
      "bert.encoder.layer.3.attention.self.value.weight --- torch.Size([768, 768])\n",
      "bert.encoder.layer.3.attention.self.value.bias --- torch.Size([768])\n",
      "bert.encoder.layer.3.attention.output.dense.weight --- torch.Size([768, 768])\n",
      "bert.encoder.layer.3.attention.output.dense.bias --- torch.Size([768])\n",
      "bert.encoder.layer.3.attention.output.LayerNorm.weight --- torch.Size([768])\n",
      "bert.encoder.layer.3.attention.output.LayerNorm.bias --- torch.Size([768])\n",
      "bert.encoder.layer.3.intermediate.dense.weight --- torch.Size([3072, 768])\n",
      "bert.encoder.layer.3.intermediate.dense.bias --- torch.Size([3072])\n",
      "bert.encoder.layer.3.output.dense.weight --- torch.Size([768, 3072])\n",
      "bert.encoder.layer.3.output.dense.bias --- torch.Size([768])\n",
      "bert.encoder.layer.3.output.LayerNorm.weight --- torch.Size([768])\n",
      "bert.encoder.layer.3.output.LayerNorm.bias --- torch.Size([768])\n",
      "bert.encoder.layer.4.attention.self.query.weight --- torch.Size([768, 768])\n",
      "bert.encoder.layer.4.attention.self.query.bias --- torch.Size([768])\n",
      "bert.encoder.layer.4.attention.self.key.weight --- torch.Size([768, 768])\n",
      "bert.encoder.layer.4.attention.self.key.bias --- torch.Size([768])\n",
      "bert.encoder.layer.4.attention.self.value.weight --- torch.Size([768, 768])\n",
      "bert.encoder.layer.4.attention.self.value.bias --- torch.Size([768])\n",
      "bert.encoder.layer.4.attention.output.dense.weight --- torch.Size([768, 768])\n",
      "bert.encoder.layer.4.attention.output.dense.bias --- torch.Size([768])\n",
      "bert.encoder.layer.4.attention.output.LayerNorm.weight --- torch.Size([768])\n",
      "bert.encoder.layer.4.attention.output.LayerNorm.bias --- torch.Size([768])\n",
      "bert.encoder.layer.4.intermediate.dense.weight --- torch.Size([3072, 768])\n",
      "bert.encoder.layer.4.intermediate.dense.bias --- torch.Size([3072])\n",
      "bert.encoder.layer.4.output.dense.weight --- torch.Size([768, 3072])\n",
      "bert.encoder.layer.4.output.dense.bias --- torch.Size([768])\n",
      "bert.encoder.layer.4.output.LayerNorm.weight --- torch.Size([768])\n",
      "bert.encoder.layer.4.output.LayerNorm.bias --- torch.Size([768])\n",
      "bert.encoder.layer.5.attention.self.query.weight --- torch.Size([768, 768])\n",
      "bert.encoder.layer.5.attention.self.query.bias --- torch.Size([768])\n",
      "bert.encoder.layer.5.attention.self.key.weight --- torch.Size([768, 768])\n",
      "bert.encoder.layer.5.attention.self.key.bias --- torch.Size([768])\n",
      "bert.encoder.layer.5.attention.self.value.weight --- torch.Size([768, 768])\n",
      "bert.encoder.layer.5.attention.self.value.bias --- torch.Size([768])\n",
      "bert.encoder.layer.5.attention.output.dense.weight --- torch.Size([768, 768])\n",
      "bert.encoder.layer.5.attention.output.dense.bias --- torch.Size([768])\n",
      "bert.encoder.layer.5.attention.output.LayerNorm.weight --- torch.Size([768])\n",
      "bert.encoder.layer.5.attention.output.LayerNorm.bias --- torch.Size([768])\n",
      "bert.encoder.layer.5.intermediate.dense.weight --- torch.Size([3072, 768])\n",
      "bert.encoder.layer.5.intermediate.dense.bias --- torch.Size([3072])\n",
      "bert.encoder.layer.5.output.dense.weight --- torch.Size([768, 3072])\n",
      "bert.encoder.layer.5.output.dense.bias --- torch.Size([768])\n",
      "bert.encoder.layer.5.output.LayerNorm.weight --- torch.Size([768])\n",
      "bert.encoder.layer.5.output.LayerNorm.bias --- torch.Size([768])\n",
      "bert.encoder.layer.6.attention.self.query.weight --- torch.Size([768, 768])\n",
      "bert.encoder.layer.6.attention.self.query.bias --- torch.Size([768])\n",
      "bert.encoder.layer.6.attention.self.key.weight --- torch.Size([768, 768])\n",
      "bert.encoder.layer.6.attention.self.key.bias --- torch.Size([768])\n",
      "bert.encoder.layer.6.attention.self.value.weight --- torch.Size([768, 768])\n",
      "bert.encoder.layer.6.attention.self.value.bias --- torch.Size([768])\n",
      "bert.encoder.layer.6.attention.output.dense.weight --- torch.Size([768, 768])\n",
      "bert.encoder.layer.6.attention.output.dense.bias --- torch.Size([768])\n",
      "bert.encoder.layer.6.attention.output.LayerNorm.weight --- torch.Size([768])\n",
      "bert.encoder.layer.6.attention.output.LayerNorm.bias --- torch.Size([768])\n",
      "bert.encoder.layer.6.intermediate.dense.weight --- torch.Size([3072, 768])\n",
      "bert.encoder.layer.6.intermediate.dense.bias --- torch.Size([3072])\n",
      "bert.encoder.layer.6.output.dense.weight --- torch.Size([768, 3072])\n",
      "bert.encoder.layer.6.output.dense.bias --- torch.Size([768])\n",
      "bert.encoder.layer.6.output.LayerNorm.weight --- torch.Size([768])\n",
      "bert.encoder.layer.6.output.LayerNorm.bias --- torch.Size([768])\n",
      "bert.encoder.layer.7.attention.self.query.weight --- torch.Size([768, 768])\n",
      "bert.encoder.layer.7.attention.self.query.bias --- torch.Size([768])\n",
      "bert.encoder.layer.7.attention.self.key.weight --- torch.Size([768, 768])\n",
      "bert.encoder.layer.7.attention.self.key.bias --- torch.Size([768])\n",
      "bert.encoder.layer.7.attention.self.value.weight --- torch.Size([768, 768])\n",
      "bert.encoder.layer.7.attention.self.value.bias --- torch.Size([768])\n",
      "bert.encoder.layer.7.attention.output.dense.weight --- torch.Size([768, 768])\n",
      "bert.encoder.layer.7.attention.output.dense.bias --- torch.Size([768])\n",
      "bert.encoder.layer.7.attention.output.LayerNorm.weight --- torch.Size([768])\n",
      "bert.encoder.layer.7.attention.output.LayerNorm.bias --- torch.Size([768])\n",
      "bert.encoder.layer.7.intermediate.dense.weight --- torch.Size([3072, 768])\n",
      "bert.encoder.layer.7.intermediate.dense.bias --- torch.Size([3072])\n",
      "bert.encoder.layer.7.output.dense.weight --- torch.Size([768, 3072])\n",
      "bert.encoder.layer.7.output.dense.bias --- torch.Size([768])\n",
      "bert.encoder.layer.7.output.LayerNorm.weight --- torch.Size([768])\n",
      "bert.encoder.layer.7.output.LayerNorm.bias --- torch.Size([768])\n",
      "bert.encoder.layer.8.attention.self.query.weight --- torch.Size([768, 768])\n",
      "bert.encoder.layer.8.attention.self.query.bias --- torch.Size([768])\n",
      "bert.encoder.layer.8.attention.self.key.weight --- torch.Size([768, 768])\n",
      "bert.encoder.layer.8.attention.self.key.bias --- torch.Size([768])\n",
      "bert.encoder.layer.8.attention.self.value.weight --- torch.Size([768, 768])\n",
      "bert.encoder.layer.8.attention.self.value.bias --- torch.Size([768])\n",
      "bert.encoder.layer.8.attention.output.dense.weight --- torch.Size([768, 768])\n",
      "bert.encoder.layer.8.attention.output.dense.bias --- torch.Size([768])\n",
      "bert.encoder.layer.8.attention.output.LayerNorm.weight --- torch.Size([768])\n",
      "bert.encoder.layer.8.attention.output.LayerNorm.bias --- torch.Size([768])\n",
      "bert.encoder.layer.8.intermediate.dense.weight --- torch.Size([3072, 768])\n",
      "bert.encoder.layer.8.intermediate.dense.bias --- torch.Size([3072])\n",
      "bert.encoder.layer.8.output.dense.weight --- torch.Size([768, 3072])\n",
      "bert.encoder.layer.8.output.dense.bias --- torch.Size([768])\n",
      "bert.encoder.layer.8.output.LayerNorm.weight --- torch.Size([768])\n",
      "bert.encoder.layer.8.output.LayerNorm.bias --- torch.Size([768])\n",
      "bert.encoder.layer.9.attention.self.query.weight --- torch.Size([768, 768])\n",
      "bert.encoder.layer.9.attention.self.query.bias --- torch.Size([768])\n",
      "bert.encoder.layer.9.attention.self.key.weight --- torch.Size([768, 768])\n",
      "bert.encoder.layer.9.attention.self.key.bias --- torch.Size([768])\n",
      "bert.encoder.layer.9.attention.self.value.weight --- torch.Size([768, 768])\n",
      "bert.encoder.layer.9.attention.self.value.bias --- torch.Size([768])\n",
      "bert.encoder.layer.9.attention.output.dense.weight --- torch.Size([768, 768])\n",
      "bert.encoder.layer.9.attention.output.dense.bias --- torch.Size([768])\n",
      "bert.encoder.layer.9.attention.output.LayerNorm.weight --- torch.Size([768])\n",
      "bert.encoder.layer.9.attention.output.LayerNorm.bias --- torch.Size([768])\n",
      "bert.encoder.layer.9.intermediate.dense.weight --- torch.Size([3072, 768])\n",
      "bert.encoder.layer.9.intermediate.dense.bias --- torch.Size([3072])\n",
      "bert.encoder.layer.9.output.dense.weight --- torch.Size([768, 3072])\n",
      "bert.encoder.layer.9.output.dense.bias --- torch.Size([768])\n",
      "bert.encoder.layer.9.output.LayerNorm.weight --- torch.Size([768])\n",
      "bert.encoder.layer.9.output.LayerNorm.bias --- torch.Size([768])\n",
      "bert.encoder.layer.10.attention.self.query.weight --- torch.Size([768, 768])\n",
      "bert.encoder.layer.10.attention.self.query.bias --- torch.Size([768])\n",
      "bert.encoder.layer.10.attention.self.key.weight --- torch.Size([768, 768])\n",
      "bert.encoder.layer.10.attention.self.key.bias --- torch.Size([768])\n",
      "bert.encoder.layer.10.attention.self.value.weight --- torch.Size([768, 768])\n",
      "bert.encoder.layer.10.attention.self.value.bias --- torch.Size([768])\n",
      "bert.encoder.layer.10.attention.output.dense.weight --- torch.Size([768, 768])\n",
      "bert.encoder.layer.10.attention.output.dense.bias --- torch.Size([768])\n",
      "bert.encoder.layer.10.attention.output.LayerNorm.weight --- torch.Size([768])\n",
      "bert.encoder.layer.10.attention.output.LayerNorm.bias --- torch.Size([768])\n",
      "bert.encoder.layer.10.intermediate.dense.weight --- torch.Size([3072, 768])\n",
      "bert.encoder.layer.10.intermediate.dense.bias --- torch.Size([3072])\n",
      "bert.encoder.layer.10.output.dense.weight --- torch.Size([768, 3072])\n",
      "bert.encoder.layer.10.output.dense.bias --- torch.Size([768])\n",
      "bert.encoder.layer.10.output.LayerNorm.weight --- torch.Size([768])\n",
      "bert.encoder.layer.10.output.LayerNorm.bias --- torch.Size([768])\n",
      "bert.encoder.layer.11.attention.self.query.weight --- torch.Size([768, 768])\n",
      "bert.encoder.layer.11.attention.self.query.bias --- torch.Size([768])\n",
      "bert.encoder.layer.11.attention.self.key.weight --- torch.Size([768, 768])\n",
      "bert.encoder.layer.11.attention.self.key.bias --- torch.Size([768])\n",
      "bert.encoder.layer.11.attention.self.value.weight --- torch.Size([768, 768])\n",
      "bert.encoder.layer.11.attention.self.value.bias --- torch.Size([768])\n",
      "bert.encoder.layer.11.attention.output.dense.weight --- torch.Size([768, 768])\n",
      "bert.encoder.layer.11.attention.output.dense.bias --- torch.Size([768])\n",
      "bert.encoder.layer.11.attention.output.LayerNorm.weight --- torch.Size([768])\n",
      "bert.encoder.layer.11.attention.output.LayerNorm.bias --- torch.Size([768])\n",
      "bert.encoder.layer.11.intermediate.dense.weight --- torch.Size([3072, 768])\n",
      "bert.encoder.layer.11.intermediate.dense.bias --- torch.Size([3072])\n",
      "bert.encoder.layer.11.output.dense.weight --- torch.Size([768, 3072])\n",
      "bert.encoder.layer.11.output.dense.bias --- torch.Size([768])\n",
      "bert.encoder.layer.11.output.LayerNorm.weight --- torch.Size([768])\n",
      "bert.encoder.layer.11.output.LayerNorm.bias --- torch.Size([768])\n",
      "bert.pooler.dense.weight --- torch.Size([768, 768])\n",
      "bert.pooler.dense.bias --- torch.Size([768])\n",
      "classifier.weight --- torch.Size([2, 768])\n",
      "classifier.bias --- torch.Size([2])\n"
     ]
    }
   ],
   "source": [
    "# from torchinfo import summary; torchinfo 패키지가 없는 것 같다...\n",
    "# summary(huggingface_model) #, input_size=(2, 512), dtypes=['torch.IntTensor'])\n",
    "\n",
    "for layer_name, params in huggingface_model.named_parameters():\n",
    "    print(layer_name,'---', params.shape)"
   ]
  },
  {
   "cell_type": "code",
   "execution_count": 21,
   "id": "1e1f41e8",
   "metadata": {},
   "outputs": [],
   "source": [
    "def transform(data):\n",
    "    return huggingface_tokenizer(\n",
    "        data['document'],\n",
    "        # data['sentence2'],\n",
    "        truncation = True,\n",
    "        padding = 'max_length',\n",
    "        return_token_type_ids = False,\n",
    "        max_length = 256\n",
    "        )"
   ]
  },
  {
   "cell_type": "code",
   "execution_count": 22,
   "id": "0d109612",
   "metadata": {
    "scrolled": false
   },
   "outputs": [],
   "source": [
    "hf_dataset = huggingface_nsmc_dataset.map(transform, batched=True, num_proc=3)"
   ]
  },
  {
   "cell_type": "code",
   "execution_count": 23,
   "id": "d15b3634",
   "metadata": {},
   "outputs": [
    {
     "name": "stdout",
     "output_type": "stream",
     "text": [
      "{'train': ['id', 'document', 'label'], 'test': ['id', 'document', 'label']} \n",
      " Dataset({\n",
      "    features: ['attention_mask', 'document', 'id', 'input_ids', 'label'],\n",
      "    num_rows: 150000\n",
      "}) Dataset({\n",
      "    features: ['attention_mask', 'document', 'id', 'input_ids', 'label'],\n",
      "    num_rows: 50000\n",
      "})\n"
     ]
    }
   ],
   "source": [
    "print(huggingface_nsmc_dataset.column_names, '\\n', \n",
    "      hf_dataset['train'], hf_dataset['test'])"
   ]
  },
  {
   "cell_type": "raw",
   "id": "3a0dc5e6",
   "metadata": {},
   "source": [
    "dataset = dataset.map(lambda examples: {'labels': examples['label']}, batched=True)\n",
    "hf_dataset = hf_dataset.rename_column(\"input_ids\", \"document\", )\n",
    "hf_dataset = hf_dataset.rename_column(\"labels\", \"label\", )"
   ]
  },
  {
   "cell_type": "code",
   "execution_count": 24,
   "id": "b4b484f3",
   "metadata": {
    "scrolled": false
   },
   "outputs": [
    {
     "data": {
      "text/plain": [
       "150000"
      ]
     },
     "execution_count": 24,
     "metadata": {},
     "output_type": "execute_result"
    }
   ],
   "source": [
    "# train & validation & test split\n",
    "hf_train_dataset = hf_dataset['train']\n",
    "# hf_val_dataset = hf_dataset['validation']\n",
    "hf_test_dataset = hf_dataset['test']\n",
    "\n",
    "len(hf_train_dataset)"
   ]
  },
  {
   "cell_type": "code",
   "execution_count": 25,
   "id": "eeb28549",
   "metadata": {},
   "outputs": [
    {
     "data": {
      "text/plain": [
       "(1500, 500)"
      ]
     },
     "execution_count": 25,
     "metadata": {},
     "output_type": "execute_result"
    }
   ],
   "source": [
    "# 훈련 테스트용 데이터셋 1/100 샤드 -- 배치사이즈 8일떄 1에포크 약 2분 \n",
    "hf_dataset_xmpl = hf_train_dataset.shard(num_shards=100, index=0)\n",
    "hf_dataset_xmpl_test = hf_test_dataset.shard(100, 1)\n",
    "\n",
    "len(hf_dataset_xmpl), len(hf_dataset_xmpl_test)"
   ]
  },
  {
   "cell_type": "code",
   "execution_count": 26,
   "id": "ba4e6983",
   "metadata": {},
   "outputs": [
    {
     "name": "stdout",
     "output_type": "stream",
     "text": [
      "256\n"
     ]
    }
   ],
   "source": [
    "print(len(hf_dataset_xmpl['input_ids'][0]))\n",
    "# 모델입력에 들어가지 않는 column 지우기\n",
    "hf_dataset_xmpl = hf_dataset_xmpl.remove_columns(['document', 'id'])"
   ]
  },
  {
   "cell_type": "code",
   "execution_count": 27,
   "id": "1d80962a",
   "metadata": {},
   "outputs": [
    {
     "data": {
      "application/vnd.jupyter.widget-view+json": {
       "model_id": "66fc738a25e348fa969e3d80d1e5d919",
       "version_major": 2,
       "version_minor": 0
      },
      "text/plain": [
       "Downloading:   0%|          | 0.00/1.86k [00:00<?, ?B/s]"
      ]
     },
     "metadata": {},
     "output_type": "display_data"
    }
   ],
   "source": [
    "from datasets import load_metric\n",
    "metric = load_metric('glue', 'sst2')"
   ]
  },
  {
   "cell_type": "code",
   "execution_count": 28,
   "id": "49b611d0",
   "metadata": {},
   "outputs": [],
   "source": [
    "def compute_metrics(eval_pred):    \n",
    "    predictions, labels = eval_pred\n",
    "    predictions = np.argmax(predictions, axis=1)\n",
    "    return metric.compute(predictions=predictions, references = labels)"
   ]
  },
  {
   "cell_type": "markdown",
   "id": "6f8731d6",
   "metadata": {},
   "source": [
    "#### 모델 훈련 작동 테스트"
   ]
  },
  {
   "cell_type": "code",
   "execution_count": null,
   "id": "0c6e1a37",
   "metadata": {},
   "outputs": [],
   "source": [
    "output_dir = os.getenv('HOME')+'/aiffel/huggingface/checkpoints'\n",
    "\n",
    "training_arguments = TrainingArguments(\n",
    "    output_dir,                               # output이 저장될 경로\n",
    "    do_eval = False,\n",
    "    # evaluation_strategy=\"epoch\",           #evaluation하는 빈도\n",
    "    learning_rate = 2e-5,                         #learning_rate\n",
    "    per_device_train_batch_size = 8,   # 각 device 당 batch size\n",
    "    # per_device_eval_batch_size = 8,    # evaluation 시에 batch size\n",
    "    num_train_epochs = 1,                     # train 시킬 총 epochs\n",
    "    weight_decay = 0.01,                        # weight decay\n",
    ")\n",
    "\n",
    "# del huggingface_model\n",
    "# huggingface_model = AutoModelForSequenceClassification.from_pretrained(\n",
    "#                                            'klue/bert-base', num_labels = 2 )\n",
    "\n",
    "trainer = Trainer(\n",
    "    model=huggingface_model,           # 학습시킬 model\n",
    "    args=training_arguments,           # TrainingArguments을 통해 설정한 arguments\n",
    "    train_dataset=hf_dataset_xmpl,    # training dataset\n",
    "    # eval_dataset=hf_val_dataset,       # evaluation dataset\n",
    "    compute_metrics=compute_metrics,\n",
    ")"
   ]
  },
  {
   "cell_type": "code",
   "execution_count": null,
   "id": "4359b15d",
   "metadata": {
    "scrolled": false
   },
   "outputs": [],
   "source": [
    "trainer.train()"
   ]
  },
  {
   "cell_type": "code",
   "execution_count": null,
   "id": "75c146df",
   "metadata": {
    "scrolled": false
   },
   "outputs": [],
   "source": [
    "trainer.evaluate(hf_dataset_xmpl_test)"
   ]
  },
  {
   "cell_type": "markdown",
   "id": "ef5dda1f",
   "metadata": {},
   "source": [
    "#### 모델 훈련 - baseline"
   ]
  },
  {
   "cell_type": "code",
   "execution_count": null,
   "id": "f2a4f429",
   "metadata": {},
   "outputs": [],
   "source": [
    "training_arguments = TrainingArguments(\n",
    "    output_dir,                               # output이 저장될 경로\n",
    "    # do_eval = False,\n",
    "    evaluation_strategy=\"epoch\",           #evaluation하는 빈도\n",
    "    learning_rate = 2e-5,                         #learning_rate\n",
    "    per_device_train_batch_size = 8,   # 각 device 당 batch size\n",
    "    per_device_eval_batch_size = 8,    # evaluation 시에 batch size\n",
    "    num_train_epochs = 2,                     # train 시킬 총 epochs\n",
    "    weight_decay = 0.01,                        # weight decay\n",
    ")"
   ]
  },
  {
   "cell_type": "code",
   "execution_count": null,
   "id": "3d46820a",
   "metadata": {
    "scrolled": true
   },
   "outputs": [],
   "source": [
    "# del huggingface_model\n",
    "# huggingface_model = AutoModelForSequenceClassification.from_pretrained('klue/bert-base', num_labels = 2)\n",
    "\n",
    "tiny_hf_test_dataset = hf_test_dataset.shuffle(seed=42).shard(50, 1)\n",
    "\n",
    "trainer = Trainer(\n",
    "    model=huggingface_model,           # 학습시킬 model\n",
    "    args=training_arguments,           # TrainingArguments을 통해 설정한 arguments\n",
    "    train_dataset=hf_train_dataset,    # training dataset\n",
    "    eval_dataset=tiny_hf_test_dataset,       # evaluation dataset\n",
    "    compute_metrics=compute_metrics,\n",
    ")\n",
    "trainer.train()"
   ]
  },
  {
   "cell_type": "raw",
   "id": "3c761572",
   "metadata": {},
   "source": [
    "TrainOutput(global_step=188, training_loss=0.45381582544205035, metrics={'train_runtime': 169.3883, 'train_samples_per_second': 8.855, 'train_steps_per_second': 1.11, 'total_flos': 394666583040000.0, 'train_loss': 0.45381582544205035, 'epoch': 1.0})\n",
    "TrainOutput(global_step=18750, training_loss=0.3124917818196615, metrics={'train_runtime': 14288.1253, 'train_samples_per_second': 10.498, 'train_steps_per_second': 1.312, 'total_flos': 3.9466658304e+16, 'train_loss': 0.3124917818196615, 'epoch': 1.0})\n",
    "TrainOutput(global_step=188, training_loss=0.14715884594207115, metrics={'train_runtime': 132.1945, 'train_samples_per_second': 11.347, 'train_steps_per_second': 1.422, 'total_flos': 394666583040000.0, 'train_loss': 0.14715884594207115, 'epoch': 1.0})\n",
    "\n",
    "\n",
    "[18750/18750 3:58:07, Epoch 1/1]\n",
    "Epoch\tTraining Loss\tValidation Loss\tAccuracy\n",
    "1\t0.264200\t0.291396\t0.903000\n",
    "\n",
    "# 아래 스텝에서 디스크 용량 이슈로 훈련 중단; 자동저장된 체크포인트들\n",
    "[29487/37500 6:11:35 < 1:40:59, 1.32 it/s, Epoch 1.57/2]\n",
    "Epoch\tTraining Loss\tValidation Loss\tAccuracy\n",
    "1\t0.297900\t0.244604\t0.902000\n",
    "\n",
    "{'eval_loss': 0.4858880341053009,\n",
    " 'eval_accuracy': 0.894,\n",
    " 'eval_runtime': 16.7023,\n",
    " 'eval_samples_per_second': 29.936,\n",
    " 'eval_steps_per_second': 3.772,\n",
    " 'epoch': 1.0}"
   ]
  },
  {
   "cell_type": "code",
   "execution_count": null,
   "id": "8d037b38",
   "metadata": {},
   "outputs": [],
   "source": [
    "trainer.save_checkpoint(\"/aiffel/aiffel/huggingface/checkpoints/checkpoint_01.ckpt\")"
   ]
  },
  {
   "cell_type": "code",
   "execution_count": null,
   "id": "cf58050d",
   "metadata": {
    "scrolled": true
   },
   "outputs": [],
   "source": [
    "# trainer.evaluate(hf_test_dataset)\n",
    "# https://huggingface.co/datasets/nyu-mll/glue/discussions/15"
   ]
  },
  {
   "cell_type": "markdown",
   "id": "dd440b71",
   "metadata": {},
   "source": [
    "#### 저장된 모델 로드 및 시각화  - baseline"
   ]
  },
  {
   "cell_type": "code",
   "execution_count": null,
   "id": "aafeda56",
   "metadata": {},
   "outputs": [],
   "source": [
    "# 2, 3번째 에포크 훈련 체크포인트 자동저장 경로\n",
    "from os.path import join, getsize\n",
    "ckpt_path_list = []\n",
    "for root, dirs, files in os.walk(output_dir): # '~/aiffel/huggingface/checkpoints'\n",
    "    for name in set(dirs):\n",
    "        if name.startswith('checkpoint-'):\n",
    "            ckpt_path_list.append(join(root, name))\n",
    "\n",
    "print(\"ckpt_path_list: \", len(ckpt_path_list))"
   ]
  },
  {
   "cell_type": "code",
   "execution_count": null,
   "id": "04133cb1",
   "metadata": {},
   "outputs": [],
   "source": [
    "# '-' 뒤 붙은 스텝 수로 정렬\n",
    "ckpt_path_list.sort(key=lambda x: int(x.split('-')[1]))"
   ]
  },
  {
   "cell_type": "code",
   "execution_count": null,
   "id": "95d38c1b",
   "metadata": {
    "scrolled": true
   },
   "outputs": [],
   "source": [
    "print(*(p+'\\n' for p in ckpt_path_list[:10]))"
   ]
  },
  {
   "cell_type": "code",
   "execution_count": null,
   "id": "8999c79e",
   "metadata": {},
   "outputs": [],
   "source": [
    "# 모델 불러오기 및 evaluate 결과 취합\n",
    "eval_result_list = []\n",
    "for ckpt_path in ckpt_path_list:\n",
    "    \n",
    "    huggingface_model = AutoModelForSequenceClassification.from_pretrained(ckpt_path)\n",
    "    \n",
    "    trainer = Trainer(\n",
    "        model=huggingface_model,           # 학습시킬 model\n",
    "        args=training_arguments,           # TrainingArguments을 통해 설정한 arguments\n",
    "        train_dataset=hf_train_dataset,    # training dataset\n",
    "        eval_dataset=tiny_hf_test_dataset,       # evaluation dataset\n",
    "        compute_metrics=compute_metrics,\n",
    "    )\n",
    "\n",
    "    eval_result = trainer.evaluate(tiny_hf_test_dataset)\n",
    "    eval_result_list.append(eval_result)"
   ]
  },
  {
   "cell_type": "code",
   "execution_count": null,
   "id": "47eebd13",
   "metadata": {},
   "outputs": [],
   "source": [
    "# 1번째 에포크 훈련 체크포인트 자동저장 결과 취합\n",
    "ckpt_path_list = []\n",
    "output_dir_2 = os.getenv('HOME')+\"/aiffel/huggingface_ckpt\"\n",
    "for root, dirs, files in os.walk(output_dir_2):\n",
    "    for name in set(dirs):\n",
    "        if name.startswith('checkpoint-'):\n",
    "            ckpt_path_list.append(join(root, name))\n",
    "\n",
    "ckpt_path_list.sort(key=lambda x: int(x.split('-')[1]))\n",
    "print(\"ckpt_path_list: \", len(ckpt_path_list))\n",
    "eval_result_list_0 = []\n",
    "for ckpt_path in ckpt_path_list:\n",
    "    \n",
    "    huggingface_model = AutoModelForSequenceClassification.from_pretrained(ckpt_path)\n",
    "    \n",
    "    trainer = Trainer(\n",
    "        model=huggingface_model,           # 학습시킬 model\n",
    "        args=training_arguments,           # TrainingArguments을 통해 설정한 arguments\n",
    "        train_dataset=hf_train_dataset,    # training dataset\n",
    "        eval_dataset=tiny_hf_test_dataset,       # evaluation dataset\n",
    "        compute_metrics=compute_metrics,\n",
    "    )\n",
    "\n",
    "    eval_result = trainer.evaluate(tiny_hf_test_dataset)\n",
    "    eval_result_list_0.append(eval_result)"
   ]
  },
  {
   "cell_type": "code",
   "execution_count": null,
   "id": "d7cb05e3",
   "metadata": {
    "scrolled": true
   },
   "outputs": [],
   "source": [
    "tot_eval_list = eval_result_list_0 + eval_result_list\n",
    "print(tot_eval_list[0])"
   ]
  },
  {
   "cell_type": "code",
   "execution_count": null,
   "id": "cc1641b5",
   "metadata": {
    "scrolled": false
   },
   "outputs": [],
   "source": [
    "# training result\n",
    "plt.figure(figsize=(15, 4))\n",
    "\n",
    "plt.subplot(1, 3, 1); key = 'eval_loss'\n",
    "plt.plot([e[key] for e in tot_eval_list], 'b-', label=key)\n",
    "plt.xlabel('500 steps')\n",
    "plt.legend()\n",
    "\n",
    "plt.subplot(1, 3, 2); key = 'eval_accuracy'\n",
    "plt.plot([e[key] for e in tot_eval_list], 'r-', label=key)\n",
    "plt.xlabel('500 steps')\n",
    "plt.legend()\n",
    "\n",
    "plt.subplot(1, 3, 3); key = 'eval_runtime'\n",
    "plt.plot([e[key] for e in tot_eval_list], 'g-', label=key)\n",
    "plt.xlabel('500 steps')\n",
    "plt.legend()\n",
    "\n",
    "\n",
    "plt.show()"
   ]
  },
  {
   "attachments": {
    "image.png": {
     "image/png": "[encoded data removed]"
    }
   },
   "cell_type": "markdown",
   "id": "b6101b4c",
   "metadata": {},
   "source": [
    "![image.png](attachment:image.png)"
   ]
  },
  {
   "cell_type": "markdown",
   "id": "0fe38f78",
   "metadata": {},
   "source": [
    "### Bucketing, Dynamic Padding"
   ]
  },
  {
   "cell_type": "code",
   "execution_count": 30,
   "id": "625d15f1",
   "metadata": {},
   "outputs": [],
   "source": [
    "def tknz_no_pad(data):\n",
    "    return huggingface_tokenizer(\n",
    "        data['document'],\n",
    "        truncation = False,\n",
    "        padding = False,\n",
    "        return_token_type_ids = False,\n",
    "        )\n",
    "\n",
    "def get_seq_len(data):\n",
    "    return len(data)"
   ]
  },
  {
   "cell_type": "code",
   "execution_count": 51,
   "id": "5323dc4a",
   "metadata": {
    "scrolled": true
   },
   "outputs": [
    {
     "name": "stderr",
     "output_type": "stream",
     "text": [
      "Loading cached processed dataset at /aiffel/.cache/huggingface/datasets/nsmc/default/1.1.0/bfd4729bf1a67114e5267e6916b9e4807010aeb238e4a3c2b95fbfa3a014b5f3/cache-9eef7de866b96eac.arrow\n",
      "Loading cached processed dataset at /aiffel/.cache/huggingface/datasets/nsmc/default/1.1.0/bfd4729bf1a67114e5267e6916b9e4807010aeb238e4a3c2b95fbfa3a014b5f3/cache-4e21f5dbd29dad59.arrow\n",
      "Loading cached processed dataset at /aiffel/.cache/huggingface/datasets/nsmc/default/1.1.0/bfd4729bf1a67114e5267e6916b9e4807010aeb238e4a3c2b95fbfa3a014b5f3/cache-7a7d4807fd87ad2c.arrow\n",
      "Loading cached processed dataset at /aiffel/.cache/huggingface/datasets/nsmc/default/1.1.0/bfd4729bf1a67114e5267e6916b9e4807010aeb238e4a3c2b95fbfa3a014b5f3/cache-e80cb2a183331a82.arrow\n",
      "Loading cached processed dataset at /aiffel/.cache/huggingface/datasets/nsmc/default/1.1.0/bfd4729bf1a67114e5267e6916b9e4807010aeb238e4a3c2b95fbfa3a014b5f3/cache-c1eebbbf4ea31f64.arrow\n",
      "Loading cached processed dataset at /aiffel/.cache/huggingface/datasets/nsmc/default/1.1.0/bfd4729bf1a67114e5267e6916b9e4807010aeb238e4a3c2b95fbfa3a014b5f3/cache-7cbc2405d9edd3d0.arrow\n"
     ]
    }
   ],
   "source": [
    "hf_dataset_no_pad = huggingface_nsmc_dataset.map(tknz_no_pad, batched=True, num_proc=3)"
   ]
  },
  {
   "cell_type": "code",
   "execution_count": 52,
   "id": "67642530",
   "metadata": {},
   "outputs": [
    {
     "data": {
      "text/plain": [
       "150000"
      ]
     },
     "execution_count": 52,
     "metadata": {},
     "output_type": "execute_result"
    }
   ],
   "source": [
    "hf_train_no_pad = hf_dataset_no_pad['train']\n",
    "hf_test_no_pad = hf_dataset_no_pad['test']\n",
    "\n",
    "len(hf_train_dataset)"
   ]
  },
  {
   "cell_type": "code",
   "execution_count": 33,
   "id": "804d98c6",
   "metadata": {},
   "outputs": [
    {
     "data": {
      "text/plain": [
       "1500"
      ]
     },
     "execution_count": 33,
     "metadata": {},
     "output_type": "execute_result"
    }
   ],
   "source": [
    "hf_train_no_pad_xmpl = hf_train_no_pad.shard(num_shards=100, index=0)\n",
    "hf_test_no_pad_xmpl = hf_test_no_pad.shard(num_shards=100, index=0)\n",
    "\n",
    "len(hf_train_no_pad_xmpl)"
   ]
  },
  {
   "cell_type": "code",
   "execution_count": 53,
   "id": "cb3182e7",
   "metadata": {},
   "outputs": [],
   "source": [
    "hf_split_no_pad = hf_train_no_pad.train_test_split(test_size=0.1)"
   ]
  },
  {
   "cell_type": "code",
   "execution_count": 54,
   "id": "c4bb7d48",
   "metadata": {},
   "outputs": [],
   "source": [
    "hf_train_no_pad = hf_split_no_pad['train']\n",
    "hf_eval_no_pad = hf_split_no_pad['test']"
   ]
  },
  {
   "cell_type": "code",
   "execution_count": null,
   "id": "9038259d",
   "metadata": {},
   "outputs": [],
   "source": [
    "# 입력 시퀀스 최대 길이 구하기\n",
    "max(len(i['input_ids']) for i in hf_train_no_pad), \\\n",
    "max(len(i['input_ids']) for i in hf_test_no_pad)"
   ]
  },
  {
   "cell_type": "code",
   "execution_count": 36,
   "id": "9cd297c4",
   "metadata": {},
   "outputs": [],
   "source": [
    "from transformers import DataCollatorWithPadding\n",
    "nsmc_collator = DataCollatorWithPadding(tokenizer=huggingface_tokenizer)"
   ]
  },
  {
   "cell_type": "markdown",
   "id": "4dfbfdb2",
   "metadata": {},
   "source": [
    "#### 모델 구성 - dropout 추가된 config"
   ]
  },
  {
   "cell_type": "code",
   "execution_count": 56,
   "id": "9aa47aa0",
   "metadata": {},
   "outputs": [
    {
     "name": "stderr",
     "output_type": "stream",
     "text": [
      "loading configuration file https://huggingface.co/klue/bert-base/resolve/main/config.json from cache at /aiffel/.cache/huggingface/transformers/fbd0b2ef898c4653902683fea8cc0dd99bf43f0e082645b913cda3b92429d1bb.99b3298ed554f2ad731c27cdb11a6215f39b90bc845ff5ce709bb4e74ba45621\n",
      "Model config BertConfig {\n",
      "  \"architectures\": [\n",
      "    \"BertForMaskedLM\"\n",
      "  ],\n",
      "  \"attention_probs_dropout_prob\": 0.1,\n",
      "  \"classifier_dropout\": 0.3,\n",
      "  \"hidden_act\": \"gelu\",\n",
      "  \"hidden_dropout_prob\": 0.1,\n",
      "  \"hidden_size\": 768,\n",
      "  \"initializer_range\": 0.02,\n",
      "  \"intermediate_size\": 3072,\n",
      "  \"layer_norm_eps\": 1e-12,\n",
      "  \"max_position_embeddings\": 512,\n",
      "  \"model_type\": \"bert\",\n",
      "  \"num_attention_heads\": 12,\n",
      "  \"num_hidden_layers\": 12,\n",
      "  \"pad_token_id\": 0,\n",
      "  \"position_embedding_type\": \"absolute\",\n",
      "  \"transformers_version\": \"4.11.3\",\n",
      "  \"type_vocab_size\": 2,\n",
      "  \"use_cache\": true,\n",
      "  \"vocab_size\": 32000\n",
      "}\n",
      "\n"
     ]
    }
   ],
   "source": [
    "from transformers import AutoConfig\n",
    "klue_bert_config = AutoConfig.from_pretrained('klue/bert-base', classifier_dropout = 0.3, num_labels=2)  "
   ]
  },
  {
   "cell_type": "raw",
   "id": "ca8dea5f",
   "metadata": {},
   "source": [
    "print(klue_bert_config)"
   ]
  },
  {
   "cell_type": "code",
   "execution_count": 57,
   "id": "2a7bc37d",
   "metadata": {
    "scrolled": false
   },
   "outputs": [
    {
     "name": "stderr",
     "output_type": "stream",
     "text": [
      "loading weights file https://huggingface.co/klue/bert-base/resolve/main/pytorch_model.bin from cache at /aiffel/.cache/huggingface/transformers/05b36ee62545d769939a7746eca739b844a40a7a7553700f110b58b28ed6a949.7cb231256a5dbe886e12b902d05cb1241f330d8c19428508f91b2b28c1cfe0b6\n",
      "Some weights of the model checkpoint at klue/bert-base were not used when initializing BertForSequenceClassification: ['cls.predictions.transform.LayerNorm.weight', 'cls.predictions.bias', 'cls.seq_relationship.bias', 'cls.predictions.transform.dense.weight', 'cls.predictions.transform.LayerNorm.bias', 'cls.predictions.decoder.bias', 'cls.predictions.decoder.weight', 'cls.seq_relationship.weight', 'cls.predictions.transform.dense.bias']\n",
      "- This IS expected if you are initializing BertForSequenceClassification from the checkpoint of a model trained on another task or with another architecture (e.g. initializing a BertForSequenceClassification model from a BertForPreTraining model).\n",
      "- This IS NOT expected if you are initializing BertForSequenceClassification from the checkpoint of a model that you expect to be exactly identical (initializing a BertForSequenceClassification model from a BertForSequenceClassification model).\n",
      "Some weights of BertForSequenceClassification were not initialized from the model checkpoint at klue/bert-base and are newly initialized: ['classifier.weight', 'classifier.bias']\n",
      "You should probably TRAIN this model on a down-stream task to be able to use it for predictions and inference.\n"
     ]
    }
   ],
   "source": [
    "huggingface_model = AutoModelForSequenceClassification.from_pretrained(\n",
    "                        'klue/bert-base', config=klue_bert_config)"
   ]
  },
  {
   "cell_type": "markdown",
   "id": "1f7215a9",
   "metadata": {},
   "source": [
    "#### 모델 훈련 작동 테스트 - Bucketing, Dynamic Padding, dropout 추가"
   ]
  },
  {
   "cell_type": "code",
   "execution_count": 38,
   "id": "c4cbc00c",
   "metadata": {
    "scrolled": true
   },
   "outputs": [
    {
     "name": "stderr",
     "output_type": "stream",
     "text": [
      "The following columns in the training set  don't have a corresponding argument in `BertForSequenceClassification.forward` and have been ignored: id, document.\n",
      "***** Running training *****\n",
      "  Num examples = 1500\n",
      "  Num Epochs = 1\n",
      "  Instantaneous batch size per device = 32\n",
      "  Total train batch size (w. parallel, distributed & accumulation) = 32\n",
      "  Gradient Accumulation steps = 1\n",
      "  Total optimization steps = 47\n"
     ]
    },
    {
     "data": {
      "text/html": [
       "\n",
       "    <div>\n",
       "      \n",
       "      <progress value='47' max='47' style='width:300px; height:20px; vertical-align: middle;'></progress>\n",
       "      [47/47 00:18, Epoch 1/1]\n",
       "    </div>\n",
       "    <table border=\"1\" class=\"dataframe\">\n",
       "  <thead>\n",
       "    <tr style=\"text-align: left;\">\n",
       "      <th>Epoch</th>\n",
       "      <th>Training Loss</th>\n",
       "      <th>Validation Loss</th>\n",
       "      <th>Accuracy</th>\n",
       "    </tr>\n",
       "  </thead>\n",
       "  <tbody>\n",
       "    <tr>\n",
       "      <td>1</td>\n",
       "      <td>No log</td>\n",
       "      <td>0.450279</td>\n",
       "      <td>0.800000</td>\n",
       "    </tr>\n",
       "  </tbody>\n",
       "</table><p>"
      ],
      "text/plain": [
       "<IPython.core.display.HTML object>"
      ]
     },
     "metadata": {},
     "output_type": "display_data"
    },
    {
     "name": "stderr",
     "output_type": "stream",
     "text": [
      "The following columns in the evaluation set  don't have a corresponding argument in `BertForSequenceClassification.forward` and have been ignored: id, document.\n",
      "***** Running Evaluation *****\n",
      "  Num examples = 500\n",
      "  Batch size = 32\n",
      "\n",
      "\n",
      "Training completed. Do not forget to share your model on huggingface.co/models =)\n",
      "\n",
      "\n"
     ]
    },
    {
     "data": {
      "text/plain": [
       "TrainOutput(global_step=47, training_loss=0.5570618243927651, metrics={'train_runtime': 18.8021, 'train_samples_per_second': 79.778, 'train_steps_per_second': 2.5, 'total_flos': 54646932865200.0, 'train_loss': 0.5570618243927651, 'epoch': 1.0})"
      ]
     },
     "execution_count": 38,
     "metadata": {},
     "output_type": "execute_result"
    }
   ],
   "source": [
    "# 훈련 테스트 런\n",
    "output_dir = os.getenv('HOME')+'/aiffel/huggingface/checkpoints'\n",
    "\n",
    "training_arguments = TrainingArguments(\n",
    "    output_dir,                               # output이 저장될 경로\n",
    "    # do_eval = False,\n",
    "    evaluation_strategy=\"epoch\",           #evaluation하는 빈도\n",
    "    learning_rate = 2e-5,                         #learning_rate\n",
    "    per_device_train_batch_size = 32,   # 각 device 당 batch size\n",
    "    per_device_eval_batch_size = 32,    # evaluation 시에 batch size\n",
    "    num_train_epochs = 1,                     # train 시킬 총 epochs\n",
    "    weight_decay = 0.01,                        # weight decay\n",
    ")\n",
    "\n",
    "trainer = Trainer(\n",
    "    model=huggingface_model,           # 학습시킬 model\n",
    "    args=training_arguments,           # TrainingArguments을 통해 설정한 arguments\n",
    "    train_dataset=hf_train_no_pad_xmpl,    # training dataset\n",
    "    eval_dataset=hf_test_no_pad_xmpl,       # evaluation dataset\n",
    "    compute_metrics=compute_metrics,\n",
    "    data_collator=nsmc_collator,          ### dynamic padding 적용\n",
    "#     tokenizer=huggingface_tokenizer,\n",
    ")\n",
    "trainer.train()"
   ]
  },
  {
   "cell_type": "markdown",
   "id": "8cf294db",
   "metadata": {},
   "source": [
    "#### 모델 훈련 - Bucketing, Dynamic Padding, dropout 추가"
   ]
  },
  {
   "cell_type": "code",
   "execution_count": 58,
   "id": "a6228213",
   "metadata": {},
   "outputs": [
    {
     "name": "stderr",
     "output_type": "stream",
     "text": [
      "PyTorch: setting up devices\n",
      "The default value for the training argument `--report_to` will change in v5 (from all installed integrations to none). In v5, you will need to use `--report_to all` to get the same behavior as now. You should start updating your code and make this info disappear :-).\n"
     ]
    }
   ],
   "source": [
    "log_dir = os.getenv('HOME')+'/aiffel/huggingface/logs'\n",
    "\n",
    "training_arguments = TrainingArguments(\n",
    "    output_dir,                               # output이 저장될 경로\n",
    "    # do_eval = False,\n",
    "    evaluation_strategy = 'steps', #\"epoch\",      #evaluation하는 빈도\n",
    "    learning_rate = 2e-5,                         #learning_rate\n",
    "    per_device_train_batch_size = 32,   # 각 device 당 batch size\n",
    "    per_device_eval_batch_size = 32,    # evaluation 시에 batch size\n",
    "    num_train_epochs = 6,                     # train 시킬 총 epochs\n",
    "    weight_decay = 0.01,                        # weight decay\n",
    "    group_by_length = True,                       ### Bucketing을 적용\n",
    "    eval_steps = 500,\n",
    "    save_steps = 500,\n",
    "    # save_only_model  = True,\n",
    "    load_best_model_at_end = True,\n",
    "    metric_for_best_model = 'accuracy',\n",
    "#     logging_dir = log_dir,\n",
    "#     logging_steps = 10,\n",
    "\n",
    ")"
   ]
  },
  {
   "cell_type": "code",
   "execution_count": 59,
   "id": "c44f5c8f",
   "metadata": {},
   "outputs": [
    {
     "name": "stderr",
     "output_type": "stream",
     "text": [
      "Loading cached shuffled indices for dataset at /aiffel/.cache/huggingface/datasets/nsmc/default/1.1.0/bfd4729bf1a67114e5267e6916b9e4807010aeb238e4a3c2b95fbfa3a014b5f3/cache-8d82332cbe95855a.arrow\n",
      "The following columns in the training set  don't have a corresponding argument in `BertForSequenceClassification.forward` and have been ignored: id, document.\n",
      "***** Running training *****\n",
      "  Num examples = 135000\n",
      "  Num Epochs = 6\n",
      "  Instantaneous batch size per device = 32\n",
      "  Total train batch size (w. parallel, distributed & accumulation) = 32\n",
      "  Gradient Accumulation steps = 1\n",
      "  Total optimization steps = 25314\n"
     ]
    },
    {
     "data": {
      "text/html": [
       "\n",
       "    <div>\n",
       "      \n",
       "      <progress value='25314' max='25314' style='width:300px; height:20px; vertical-align: middle;'></progress>\n",
       "      [25314/25314 2:10:01, Epoch 6/6]\n",
       "    </div>\n",
       "    <table border=\"1\" class=\"dataframe\">\n",
       "  <thead>\n",
       "    <tr style=\"text-align: left;\">\n",
       "      <th>Step</th>\n",
       "      <th>Training Loss</th>\n",
       "      <th>Validation Loss</th>\n",
       "      <th>Accuracy</th>\n",
       "    </tr>\n",
       "  </thead>\n",
       "  <tbody>\n",
       "    <tr>\n",
       "      <td>500</td>\n",
       "      <td>0.360400</td>\n",
       "      <td>0.297157</td>\n",
       "      <td>0.875933</td>\n",
       "    </tr>\n",
       "    <tr>\n",
       "      <td>1000</td>\n",
       "      <td>0.296200</td>\n",
       "      <td>0.272167</td>\n",
       "      <td>0.886933</td>\n",
       "    </tr>\n",
       "    <tr>\n",
       "      <td>1500</td>\n",
       "      <td>0.292700</td>\n",
       "      <td>0.279466</td>\n",
       "      <td>0.882467</td>\n",
       "    </tr>\n",
       "    <tr>\n",
       "      <td>2000</td>\n",
       "      <td>0.286800</td>\n",
       "      <td>0.255266</td>\n",
       "      <td>0.893867</td>\n",
       "    </tr>\n",
       "    <tr>\n",
       "      <td>2500</td>\n",
       "      <td>0.265300</td>\n",
       "      <td>0.325775</td>\n",
       "      <td>0.876067</td>\n",
       "    </tr>\n",
       "    <tr>\n",
       "      <td>3000</td>\n",
       "      <td>0.266300</td>\n",
       "      <td>0.248086</td>\n",
       "      <td>0.899000</td>\n",
       "    </tr>\n",
       "    <tr>\n",
       "      <td>3500</td>\n",
       "      <td>0.258500</td>\n",
       "      <td>0.259056</td>\n",
       "      <td>0.894667</td>\n",
       "    </tr>\n",
       "    <tr>\n",
       "      <td>4000</td>\n",
       "      <td>0.254600</td>\n",
       "      <td>0.234062</td>\n",
       "      <td>0.904667</td>\n",
       "    </tr>\n",
       "    <tr>\n",
       "      <td>4500</td>\n",
       "      <td>0.215500</td>\n",
       "      <td>0.263421</td>\n",
       "      <td>0.903800</td>\n",
       "    </tr>\n",
       "    <tr>\n",
       "      <td>5000</td>\n",
       "      <td>0.185400</td>\n",
       "      <td>0.256369</td>\n",
       "      <td>0.904267</td>\n",
       "    </tr>\n",
       "    <tr>\n",
       "      <td>5500</td>\n",
       "      <td>0.193600</td>\n",
       "      <td>0.260506</td>\n",
       "      <td>0.903133</td>\n",
       "    </tr>\n",
       "    <tr>\n",
       "      <td>6000</td>\n",
       "      <td>0.192500</td>\n",
       "      <td>0.254415</td>\n",
       "      <td>0.903867</td>\n",
       "    </tr>\n",
       "    <tr>\n",
       "      <td>6500</td>\n",
       "      <td>0.191000</td>\n",
       "      <td>0.253726</td>\n",
       "      <td>0.906067</td>\n",
       "    </tr>\n",
       "    <tr>\n",
       "      <td>7000</td>\n",
       "      <td>0.186800</td>\n",
       "      <td>0.250822</td>\n",
       "      <td>0.905867</td>\n",
       "    </tr>\n",
       "    <tr>\n",
       "      <td>7500</td>\n",
       "      <td>0.191500</td>\n",
       "      <td>0.249668</td>\n",
       "      <td>0.905133</td>\n",
       "    </tr>\n",
       "    <tr>\n",
       "      <td>8000</td>\n",
       "      <td>0.190500</td>\n",
       "      <td>0.274078</td>\n",
       "      <td>0.900600</td>\n",
       "    </tr>\n",
       "    <tr>\n",
       "      <td>8500</td>\n",
       "      <td>0.177900</td>\n",
       "      <td>0.289298</td>\n",
       "      <td>0.906733</td>\n",
       "    </tr>\n",
       "    <tr>\n",
       "      <td>9000</td>\n",
       "      <td>0.125000</td>\n",
       "      <td>0.296713</td>\n",
       "      <td>0.905800</td>\n",
       "    </tr>\n",
       "    <tr>\n",
       "      <td>9500</td>\n",
       "      <td>0.121900</td>\n",
       "      <td>0.303162</td>\n",
       "      <td>0.904667</td>\n",
       "    </tr>\n",
       "    <tr>\n",
       "      <td>10000</td>\n",
       "      <td>0.123200</td>\n",
       "      <td>0.306000</td>\n",
       "      <td>0.905800</td>\n",
       "    </tr>\n",
       "    <tr>\n",
       "      <td>10500</td>\n",
       "      <td>0.130600</td>\n",
       "      <td>0.296312</td>\n",
       "      <td>0.906000</td>\n",
       "    </tr>\n",
       "    <tr>\n",
       "      <td>11000</td>\n",
       "      <td>0.123800</td>\n",
       "      <td>0.347967</td>\n",
       "      <td>0.904667</td>\n",
       "    </tr>\n",
       "    <tr>\n",
       "      <td>11500</td>\n",
       "      <td>0.132800</td>\n",
       "      <td>0.286212</td>\n",
       "      <td>0.904867</td>\n",
       "    </tr>\n",
       "    <tr>\n",
       "      <td>12000</td>\n",
       "      <td>0.137500</td>\n",
       "      <td>0.278359</td>\n",
       "      <td>0.904733</td>\n",
       "    </tr>\n",
       "    <tr>\n",
       "      <td>12500</td>\n",
       "      <td>0.130800</td>\n",
       "      <td>0.297468</td>\n",
       "      <td>0.907000</td>\n",
       "    </tr>\n",
       "    <tr>\n",
       "      <td>13000</td>\n",
       "      <td>0.097000</td>\n",
       "      <td>0.419716</td>\n",
       "      <td>0.898600</td>\n",
       "    </tr>\n",
       "    <tr>\n",
       "      <td>13500</td>\n",
       "      <td>0.081900</td>\n",
       "      <td>0.400929</td>\n",
       "      <td>0.904933</td>\n",
       "    </tr>\n",
       "    <tr>\n",
       "      <td>14000</td>\n",
       "      <td>0.089900</td>\n",
       "      <td>0.414584</td>\n",
       "      <td>0.905000</td>\n",
       "    </tr>\n",
       "    <tr>\n",
       "      <td>14500</td>\n",
       "      <td>0.089200</td>\n",
       "      <td>0.367197</td>\n",
       "      <td>0.902000</td>\n",
       "    </tr>\n",
       "    <tr>\n",
       "      <td>15000</td>\n",
       "      <td>0.085600</td>\n",
       "      <td>0.380394</td>\n",
       "      <td>0.903800</td>\n",
       "    </tr>\n",
       "    <tr>\n",
       "      <td>15500</td>\n",
       "      <td>0.089500</td>\n",
       "      <td>0.399415</td>\n",
       "      <td>0.904133</td>\n",
       "    </tr>\n",
       "    <tr>\n",
       "      <td>16000</td>\n",
       "      <td>0.082600</td>\n",
       "      <td>0.417932</td>\n",
       "      <td>0.902400</td>\n",
       "    </tr>\n",
       "    <tr>\n",
       "      <td>16500</td>\n",
       "      <td>0.089000</td>\n",
       "      <td>0.414495</td>\n",
       "      <td>0.900000</td>\n",
       "    </tr>\n",
       "    <tr>\n",
       "      <td>17000</td>\n",
       "      <td>0.079600</td>\n",
       "      <td>0.426073</td>\n",
       "      <td>0.903133</td>\n",
       "    </tr>\n",
       "    <tr>\n",
       "      <td>17500</td>\n",
       "      <td>0.057400</td>\n",
       "      <td>0.465181</td>\n",
       "      <td>0.903467</td>\n",
       "    </tr>\n",
       "    <tr>\n",
       "      <td>18000</td>\n",
       "      <td>0.058700</td>\n",
       "      <td>0.493871</td>\n",
       "      <td>0.901000</td>\n",
       "    </tr>\n",
       "    <tr>\n",
       "      <td>18500</td>\n",
       "      <td>0.065000</td>\n",
       "      <td>0.484014</td>\n",
       "      <td>0.902067</td>\n",
       "    </tr>\n",
       "    <tr>\n",
       "      <td>19000</td>\n",
       "      <td>0.059700</td>\n",
       "      <td>0.489723</td>\n",
       "      <td>0.902733</td>\n",
       "    </tr>\n",
       "    <tr>\n",
       "      <td>19500</td>\n",
       "      <td>0.060200</td>\n",
       "      <td>0.488482</td>\n",
       "      <td>0.901867</td>\n",
       "    </tr>\n",
       "    <tr>\n",
       "      <td>20000</td>\n",
       "      <td>0.060000</td>\n",
       "      <td>0.503706</td>\n",
       "      <td>0.901733</td>\n",
       "    </tr>\n",
       "    <tr>\n",
       "      <td>20500</td>\n",
       "      <td>0.063600</td>\n",
       "      <td>0.481040</td>\n",
       "      <td>0.902333</td>\n",
       "    </tr>\n",
       "    <tr>\n",
       "      <td>21000</td>\n",
       "      <td>0.064100</td>\n",
       "      <td>0.479002</td>\n",
       "      <td>0.905067</td>\n",
       "    </tr>\n",
       "    <tr>\n",
       "      <td>21500</td>\n",
       "      <td>0.048000</td>\n",
       "      <td>0.512420</td>\n",
       "      <td>0.902467</td>\n",
       "    </tr>\n",
       "    <tr>\n",
       "      <td>22000</td>\n",
       "      <td>0.047800</td>\n",
       "      <td>0.531776</td>\n",
       "      <td>0.902533</td>\n",
       "    </tr>\n",
       "    <tr>\n",
       "      <td>22500</td>\n",
       "      <td>0.048500</td>\n",
       "      <td>0.529628</td>\n",
       "      <td>0.902733</td>\n",
       "    </tr>\n",
       "    <tr>\n",
       "      <td>23000</td>\n",
       "      <td>0.042400</td>\n",
       "      <td>0.547974</td>\n",
       "      <td>0.902800</td>\n",
       "    </tr>\n",
       "    <tr>\n",
       "      <td>23500</td>\n",
       "      <td>0.045300</td>\n",
       "      <td>0.546529</td>\n",
       "      <td>0.901333</td>\n",
       "    </tr>\n",
       "    <tr>\n",
       "      <td>24000</td>\n",
       "      <td>0.041600</td>\n",
       "      <td>0.550550</td>\n",
       "      <td>0.902400</td>\n",
       "    </tr>\n",
       "    <tr>\n",
       "      <td>24500</td>\n",
       "      <td>0.045900</td>\n",
       "      <td>0.551643</td>\n",
       "      <td>0.902533</td>\n",
       "    </tr>\n",
       "    <tr>\n",
       "      <td>25000</td>\n",
       "      <td>0.041900</td>\n",
       "      <td>0.548875</td>\n",
       "      <td>0.902600</td>\n",
       "    </tr>\n",
       "  </tbody>\n",
       "</table><p>"
      ],
      "text/plain": [
       "<IPython.core.display.HTML object>"
      ]
     },
     "metadata": {},
     "output_type": "display_data"
    },
    {
     "name": "stderr",
     "output_type": "stream",
     "text": [
      "The following columns in the evaluation set  don't have a corresponding argument in `BertForSequenceClassification.forward` and have been ignored: id, document.\n",
      "***** Running Evaluation *****\n",
      "  Num examples = 15000\n",
      "  Batch size = 32\n",
      "Saving model checkpoint to /aiffel/aiffel/huggingface/checkpoints/checkpoint-500\n",
      "Configuration saved in /aiffel/aiffel/huggingface/checkpoints/checkpoint-500/config.json\n",
      "Model weights saved in /aiffel/aiffel/huggingface/checkpoints/checkpoint-500/pytorch_model.bin\n",
      "The following columns in the evaluation set  don't have a corresponding argument in `BertForSequenceClassification.forward` and have been ignored: id, document.\n",
      "***** Running Evaluation *****\n",
      "  Num examples = 15000\n",
      "  Batch size = 32\n",
      "Saving model checkpoint to /aiffel/aiffel/huggingface/checkpoints/checkpoint-1000\n",
      "Configuration saved in /aiffel/aiffel/huggingface/checkpoints/checkpoint-1000/config.json\n",
      "Model weights saved in /aiffel/aiffel/huggingface/checkpoints/checkpoint-1000/pytorch_model.bin\n",
      "The following columns in the evaluation set  don't have a corresponding argument in `BertForSequenceClassification.forward` and have been ignored: id, document.\n",
      "***** Running Evaluation *****\n",
      "  Num examples = 15000\n",
      "  Batch size = 32\n",
      "Saving model checkpoint to /aiffel/aiffel/huggingface/checkpoints/checkpoint-1500\n",
      "Configuration saved in /aiffel/aiffel/huggingface/checkpoints/checkpoint-1500/config.json\n",
      "Model weights saved in /aiffel/aiffel/huggingface/checkpoints/checkpoint-1500/pytorch_model.bin\n",
      "The following columns in the evaluation set  don't have a corresponding argument in `BertForSequenceClassification.forward` and have been ignored: id, document.\n",
      "***** Running Evaluation *****\n",
      "  Num examples = 15000\n",
      "  Batch size = 32\n",
      "Saving model checkpoint to /aiffel/aiffel/huggingface/checkpoints/checkpoint-2000\n",
      "Configuration saved in /aiffel/aiffel/huggingface/checkpoints/checkpoint-2000/config.json\n",
      "Model weights saved in /aiffel/aiffel/huggingface/checkpoints/checkpoint-2000/pytorch_model.bin\n",
      "The following columns in the evaluation set  don't have a corresponding argument in `BertForSequenceClassification.forward` and have been ignored: id, document.\n",
      "***** Running Evaluation *****\n",
      "  Num examples = 15000\n",
      "  Batch size = 32\n",
      "Saving model checkpoint to /aiffel/aiffel/huggingface/checkpoints/checkpoint-2500\n",
      "Configuration saved in /aiffel/aiffel/huggingface/checkpoints/checkpoint-2500/config.json\n",
      "Model weights saved in /aiffel/aiffel/huggingface/checkpoints/checkpoint-2500/pytorch_model.bin\n",
      "The following columns in the evaluation set  don't have a corresponding argument in `BertForSequenceClassification.forward` and have been ignored: id, document.\n",
      "***** Running Evaluation *****\n",
      "  Num examples = 15000\n",
      "  Batch size = 32\n",
      "Saving model checkpoint to /aiffel/aiffel/huggingface/checkpoints/checkpoint-3000\n",
      "Configuration saved in /aiffel/aiffel/huggingface/checkpoints/checkpoint-3000/config.json\n",
      "Model weights saved in /aiffel/aiffel/huggingface/checkpoints/checkpoint-3000/pytorch_model.bin\n",
      "The following columns in the evaluation set  don't have a corresponding argument in `BertForSequenceClassification.forward` and have been ignored: id, document.\n",
      "***** Running Evaluation *****\n",
      "  Num examples = 15000\n",
      "  Batch size = 32\n",
      "Saving model checkpoint to /aiffel/aiffel/huggingface/checkpoints/checkpoint-3500\n",
      "Configuration saved in /aiffel/aiffel/huggingface/checkpoints/checkpoint-3500/config.json\n",
      "Model weights saved in /aiffel/aiffel/huggingface/checkpoints/checkpoint-3500/pytorch_model.bin\n",
      "The following columns in the evaluation set  don't have a corresponding argument in `BertForSequenceClassification.forward` and have been ignored: id, document.\n",
      "***** Running Evaluation *****\n",
      "  Num examples = 15000\n",
      "  Batch size = 32\n",
      "Saving model checkpoint to /aiffel/aiffel/huggingface/checkpoints/checkpoint-4000\n",
      "Configuration saved in /aiffel/aiffel/huggingface/checkpoints/checkpoint-4000/config.json\n",
      "Model weights saved in /aiffel/aiffel/huggingface/checkpoints/checkpoint-4000/pytorch_model.bin\n",
      "The following columns in the evaluation set  don't have a corresponding argument in `BertForSequenceClassification.forward` and have been ignored: id, document.\n",
      "***** Running Evaluation *****\n",
      "  Num examples = 15000\n",
      "  Batch size = 32\n",
      "Saving model checkpoint to /aiffel/aiffel/huggingface/checkpoints/checkpoint-4500\n",
      "Configuration saved in /aiffel/aiffel/huggingface/checkpoints/checkpoint-4500/config.json\n",
      "Model weights saved in /aiffel/aiffel/huggingface/checkpoints/checkpoint-4500/pytorch_model.bin\n",
      "The following columns in the evaluation set  don't have a corresponding argument in `BertForSequenceClassification.forward` and have been ignored: id, document.\n",
      "***** Running Evaluation *****\n",
      "  Num examples = 15000\n",
      "  Batch size = 32\n",
      "Saving model checkpoint to /aiffel/aiffel/huggingface/checkpoints/checkpoint-5000\n",
      "Configuration saved in /aiffel/aiffel/huggingface/checkpoints/checkpoint-5000/config.json\n",
      "Model weights saved in /aiffel/aiffel/huggingface/checkpoints/checkpoint-5000/pytorch_model.bin\n",
      "The following columns in the evaluation set  don't have a corresponding argument in `BertForSequenceClassification.forward` and have been ignored: id, document.\n",
      "***** Running Evaluation *****\n",
      "  Num examples = 15000\n",
      "  Batch size = 32\n",
      "Saving model checkpoint to /aiffel/aiffel/huggingface/checkpoints/checkpoint-5500\n",
      "Configuration saved in /aiffel/aiffel/huggingface/checkpoints/checkpoint-5500/config.json\n",
      "Model weights saved in /aiffel/aiffel/huggingface/checkpoints/checkpoint-5500/pytorch_model.bin\n",
      "The following columns in the evaluation set  don't have a corresponding argument in `BertForSequenceClassification.forward` and have been ignored: id, document.\n",
      "***** Running Evaluation *****\n",
      "  Num examples = 15000\n",
      "  Batch size = 32\n",
      "Saving model checkpoint to /aiffel/aiffel/huggingface/checkpoints/checkpoint-6000\n",
      "Configuration saved in /aiffel/aiffel/huggingface/checkpoints/checkpoint-6000/config.json\n",
      "Model weights saved in /aiffel/aiffel/huggingface/checkpoints/checkpoint-6000/pytorch_model.bin\n",
      "The following columns in the evaluation set  don't have a corresponding argument in `BertForSequenceClassification.forward` and have been ignored: id, document.\n",
      "***** Running Evaluation *****\n",
      "  Num examples = 15000\n",
      "  Batch size = 32\n",
      "Saving model checkpoint to /aiffel/aiffel/huggingface/checkpoints/checkpoint-6500\n",
      "Configuration saved in /aiffel/aiffel/huggingface/checkpoints/checkpoint-6500/config.json\n",
      "Model weights saved in /aiffel/aiffel/huggingface/checkpoints/checkpoint-6500/pytorch_model.bin\n",
      "The following columns in the evaluation set  don't have a corresponding argument in `BertForSequenceClassification.forward` and have been ignored: id, document.\n",
      "***** Running Evaluation *****\n",
      "  Num examples = 15000\n",
      "  Batch size = 32\n",
      "Saving model checkpoint to /aiffel/aiffel/huggingface/checkpoints/checkpoint-7000\n",
      "Configuration saved in /aiffel/aiffel/huggingface/checkpoints/checkpoint-7000/config.json\n",
      "Model weights saved in /aiffel/aiffel/huggingface/checkpoints/checkpoint-7000/pytorch_model.bin\n",
      "The following columns in the evaluation set  don't have a corresponding argument in `BertForSequenceClassification.forward` and have been ignored: id, document.\n",
      "***** Running Evaluation *****\n",
      "  Num examples = 15000\n",
      "  Batch size = 32\n",
      "Saving model checkpoint to /aiffel/aiffel/huggingface/checkpoints/checkpoint-7500\n",
      "Configuration saved in /aiffel/aiffel/huggingface/checkpoints/checkpoint-7500/config.json\n",
      "Model weights saved in /aiffel/aiffel/huggingface/checkpoints/checkpoint-7500/pytorch_model.bin\n",
      "The following columns in the evaluation set  don't have a corresponding argument in `BertForSequenceClassification.forward` and have been ignored: id, document.\n",
      "***** Running Evaluation *****\n",
      "  Num examples = 15000\n",
      "  Batch size = 32\n",
      "Saving model checkpoint to /aiffel/aiffel/huggingface/checkpoints/checkpoint-8000\n",
      "Configuration saved in /aiffel/aiffel/huggingface/checkpoints/checkpoint-8000/config.json\n",
      "Model weights saved in /aiffel/aiffel/huggingface/checkpoints/checkpoint-8000/pytorch_model.bin\n",
      "The following columns in the evaluation set  don't have a corresponding argument in `BertForSequenceClassification.forward` and have been ignored: id, document.\n",
      "***** Running Evaluation *****\n"
     ]
    },
    {
     "name": "stderr",
     "output_type": "stream",
     "text": [
      "  Num examples = 15000\n",
      "  Batch size = 32\n",
      "Saving model checkpoint to /aiffel/aiffel/huggingface/checkpoints/checkpoint-8500\n",
      "Configuration saved in /aiffel/aiffel/huggingface/checkpoints/checkpoint-8500/config.json\n",
      "Model weights saved in /aiffel/aiffel/huggingface/checkpoints/checkpoint-8500/pytorch_model.bin\n",
      "The following columns in the evaluation set  don't have a corresponding argument in `BertForSequenceClassification.forward` and have been ignored: id, document.\n",
      "***** Running Evaluation *****\n",
      "  Num examples = 15000\n",
      "  Batch size = 32\n",
      "Saving model checkpoint to /aiffel/aiffel/huggingface/checkpoints/checkpoint-9000\n",
      "Configuration saved in /aiffel/aiffel/huggingface/checkpoints/checkpoint-9000/config.json\n",
      "Model weights saved in /aiffel/aiffel/huggingface/checkpoints/checkpoint-9000/pytorch_model.bin\n",
      "The following columns in the evaluation set  don't have a corresponding argument in `BertForSequenceClassification.forward` and have been ignored: id, document.\n",
      "***** Running Evaluation *****\n",
      "  Num examples = 15000\n",
      "  Batch size = 32\n",
      "Saving model checkpoint to /aiffel/aiffel/huggingface/checkpoints/checkpoint-9500\n",
      "Configuration saved in /aiffel/aiffel/huggingface/checkpoints/checkpoint-9500/config.json\n",
      "Model weights saved in /aiffel/aiffel/huggingface/checkpoints/checkpoint-9500/pytorch_model.bin\n",
      "The following columns in the evaluation set  don't have a corresponding argument in `BertForSequenceClassification.forward` and have been ignored: id, document.\n",
      "***** Running Evaluation *****\n",
      "  Num examples = 15000\n",
      "  Batch size = 32\n",
      "Saving model checkpoint to /aiffel/aiffel/huggingface/checkpoints/checkpoint-10000\n",
      "Configuration saved in /aiffel/aiffel/huggingface/checkpoints/checkpoint-10000/config.json\n",
      "Model weights saved in /aiffel/aiffel/huggingface/checkpoints/checkpoint-10000/pytorch_model.bin\n",
      "The following columns in the evaluation set  don't have a corresponding argument in `BertForSequenceClassification.forward` and have been ignored: id, document.\n",
      "***** Running Evaluation *****\n",
      "  Num examples = 15000\n",
      "  Batch size = 32\n",
      "Saving model checkpoint to /aiffel/aiffel/huggingface/checkpoints/checkpoint-10500\n",
      "Configuration saved in /aiffel/aiffel/huggingface/checkpoints/checkpoint-10500/config.json\n",
      "Model weights saved in /aiffel/aiffel/huggingface/checkpoints/checkpoint-10500/pytorch_model.bin\n",
      "The following columns in the evaluation set  don't have a corresponding argument in `BertForSequenceClassification.forward` and have been ignored: id, document.\n",
      "***** Running Evaluation *****\n",
      "  Num examples = 15000\n",
      "  Batch size = 32\n",
      "Saving model checkpoint to /aiffel/aiffel/huggingface/checkpoints/checkpoint-11000\n",
      "Configuration saved in /aiffel/aiffel/huggingface/checkpoints/checkpoint-11000/config.json\n",
      "Model weights saved in /aiffel/aiffel/huggingface/checkpoints/checkpoint-11000/pytorch_model.bin\n",
      "The following columns in the evaluation set  don't have a corresponding argument in `BertForSequenceClassification.forward` and have been ignored: id, document.\n",
      "***** Running Evaluation *****\n",
      "  Num examples = 15000\n",
      "  Batch size = 32\n",
      "Saving model checkpoint to /aiffel/aiffel/huggingface/checkpoints/checkpoint-11500\n",
      "Configuration saved in /aiffel/aiffel/huggingface/checkpoints/checkpoint-11500/config.json\n",
      "Model weights saved in /aiffel/aiffel/huggingface/checkpoints/checkpoint-11500/pytorch_model.bin\n",
      "The following columns in the evaluation set  don't have a corresponding argument in `BertForSequenceClassification.forward` and have been ignored: id, document.\n",
      "***** Running Evaluation *****\n",
      "  Num examples = 15000\n",
      "  Batch size = 32\n",
      "Saving model checkpoint to /aiffel/aiffel/huggingface/checkpoints/checkpoint-12000\n",
      "Configuration saved in /aiffel/aiffel/huggingface/checkpoints/checkpoint-12000/config.json\n",
      "Model weights saved in /aiffel/aiffel/huggingface/checkpoints/checkpoint-12000/pytorch_model.bin\n",
      "The following columns in the evaluation set  don't have a corresponding argument in `BertForSequenceClassification.forward` and have been ignored: id, document.\n",
      "***** Running Evaluation *****\n",
      "  Num examples = 15000\n",
      "  Batch size = 32\n",
      "Saving model checkpoint to /aiffel/aiffel/huggingface/checkpoints/checkpoint-12500\n",
      "Configuration saved in /aiffel/aiffel/huggingface/checkpoints/checkpoint-12500/config.json\n",
      "Model weights saved in /aiffel/aiffel/huggingface/checkpoints/checkpoint-12500/pytorch_model.bin\n",
      "The following columns in the evaluation set  don't have a corresponding argument in `BertForSequenceClassification.forward` and have been ignored: id, document.\n",
      "***** Running Evaluation *****\n",
      "  Num examples = 15000\n",
      "  Batch size = 32\n",
      "Saving model checkpoint to /aiffel/aiffel/huggingface/checkpoints/checkpoint-13000\n",
      "Configuration saved in /aiffel/aiffel/huggingface/checkpoints/checkpoint-13000/config.json\n",
      "Model weights saved in /aiffel/aiffel/huggingface/checkpoints/checkpoint-13000/pytorch_model.bin\n",
      "The following columns in the evaluation set  don't have a corresponding argument in `BertForSequenceClassification.forward` and have been ignored: id, document.\n",
      "***** Running Evaluation *****\n",
      "  Num examples = 15000\n",
      "  Batch size = 32\n",
      "Saving model checkpoint to /aiffel/aiffel/huggingface/checkpoints/checkpoint-13500\n",
      "Configuration saved in /aiffel/aiffel/huggingface/checkpoints/checkpoint-13500/config.json\n",
      "Model weights saved in /aiffel/aiffel/huggingface/checkpoints/checkpoint-13500/pytorch_model.bin\n",
      "The following columns in the evaluation set  don't have a corresponding argument in `BertForSequenceClassification.forward` and have been ignored: id, document.\n",
      "***** Running Evaluation *****\n",
      "  Num examples = 15000\n",
      "  Batch size = 32\n",
      "Saving model checkpoint to /aiffel/aiffel/huggingface/checkpoints/checkpoint-14000\n",
      "Configuration saved in /aiffel/aiffel/huggingface/checkpoints/checkpoint-14000/config.json\n",
      "Model weights saved in /aiffel/aiffel/huggingface/checkpoints/checkpoint-14000/pytorch_model.bin\n",
      "The following columns in the evaluation set  don't have a corresponding argument in `BertForSequenceClassification.forward` and have been ignored: id, document.\n",
      "***** Running Evaluation *****\n",
      "  Num examples = 15000\n",
      "  Batch size = 32\n",
      "Saving model checkpoint to /aiffel/aiffel/huggingface/checkpoints/checkpoint-14500\n",
      "Configuration saved in /aiffel/aiffel/huggingface/checkpoints/checkpoint-14500/config.json\n",
      "Model weights saved in /aiffel/aiffel/huggingface/checkpoints/checkpoint-14500/pytorch_model.bin\n",
      "The following columns in the evaluation set  don't have a corresponding argument in `BertForSequenceClassification.forward` and have been ignored: id, document.\n",
      "***** Running Evaluation *****\n",
      "  Num examples = 15000\n",
      "  Batch size = 32\n",
      "Saving model checkpoint to /aiffel/aiffel/huggingface/checkpoints/checkpoint-15000\n",
      "Configuration saved in /aiffel/aiffel/huggingface/checkpoints/checkpoint-15000/config.json\n",
      "Model weights saved in /aiffel/aiffel/huggingface/checkpoints/checkpoint-15000/pytorch_model.bin\n",
      "The following columns in the evaluation set  don't have a corresponding argument in `BertForSequenceClassification.forward` and have been ignored: id, document.\n",
      "***** Running Evaluation *****\n",
      "  Num examples = 15000\n",
      "  Batch size = 32\n",
      "Saving model checkpoint to /aiffel/aiffel/huggingface/checkpoints/checkpoint-15500\n",
      "Configuration saved in /aiffel/aiffel/huggingface/checkpoints/checkpoint-15500/config.json\n",
      "Model weights saved in /aiffel/aiffel/huggingface/checkpoints/checkpoint-15500/pytorch_model.bin\n",
      "The following columns in the evaluation set  don't have a corresponding argument in `BertForSequenceClassification.forward` and have been ignored: id, document.\n",
      "***** Running Evaluation *****\n",
      "  Num examples = 15000\n",
      "  Batch size = 32\n",
      "Saving model checkpoint to /aiffel/aiffel/huggingface/checkpoints/checkpoint-16000\n",
      "Configuration saved in /aiffel/aiffel/huggingface/checkpoints/checkpoint-16000/config.json\n",
      "Model weights saved in /aiffel/aiffel/huggingface/checkpoints/checkpoint-16000/pytorch_model.bin\n",
      "The following columns in the evaluation set  don't have a corresponding argument in `BertForSequenceClassification.forward` and have been ignored: id, document.\n",
      "***** Running Evaluation *****\n",
      "  Num examples = 15000\n",
      "  Batch size = 32\n",
      "Saving model checkpoint to /aiffel/aiffel/huggingface/checkpoints/checkpoint-16500\n",
      "Configuration saved in /aiffel/aiffel/huggingface/checkpoints/checkpoint-16500/config.json\n"
     ]
    },
    {
     "name": "stderr",
     "output_type": "stream",
     "text": [
      "Model weights saved in /aiffel/aiffel/huggingface/checkpoints/checkpoint-16500/pytorch_model.bin\n",
      "The following columns in the evaluation set  don't have a corresponding argument in `BertForSequenceClassification.forward` and have been ignored: id, document.\n",
      "***** Running Evaluation *****\n",
      "  Num examples = 15000\n",
      "  Batch size = 32\n",
      "Saving model checkpoint to /aiffel/aiffel/huggingface/checkpoints/checkpoint-17000\n",
      "Configuration saved in /aiffel/aiffel/huggingface/checkpoints/checkpoint-17000/config.json\n",
      "Model weights saved in /aiffel/aiffel/huggingface/checkpoints/checkpoint-17000/pytorch_model.bin\n",
      "The following columns in the evaluation set  don't have a corresponding argument in `BertForSequenceClassification.forward` and have been ignored: id, document.\n",
      "***** Running Evaluation *****\n",
      "  Num examples = 15000\n",
      "  Batch size = 32\n",
      "Saving model checkpoint to /aiffel/aiffel/huggingface/checkpoints/checkpoint-17500\n",
      "Configuration saved in /aiffel/aiffel/huggingface/checkpoints/checkpoint-17500/config.json\n",
      "Model weights saved in /aiffel/aiffel/huggingface/checkpoints/checkpoint-17500/pytorch_model.bin\n",
      "The following columns in the evaluation set  don't have a corresponding argument in `BertForSequenceClassification.forward` and have been ignored: id, document.\n",
      "***** Running Evaluation *****\n",
      "  Num examples = 15000\n",
      "  Batch size = 32\n",
      "Saving model checkpoint to /aiffel/aiffel/huggingface/checkpoints/checkpoint-18000\n",
      "Configuration saved in /aiffel/aiffel/huggingface/checkpoints/checkpoint-18000/config.json\n",
      "Model weights saved in /aiffel/aiffel/huggingface/checkpoints/checkpoint-18000/pytorch_model.bin\n",
      "The following columns in the evaluation set  don't have a corresponding argument in `BertForSequenceClassification.forward` and have been ignored: id, document.\n",
      "***** Running Evaluation *****\n",
      "  Num examples = 15000\n",
      "  Batch size = 32\n",
      "Saving model checkpoint to /aiffel/aiffel/huggingface/checkpoints/checkpoint-18500\n",
      "Configuration saved in /aiffel/aiffel/huggingface/checkpoints/checkpoint-18500/config.json\n",
      "Model weights saved in /aiffel/aiffel/huggingface/checkpoints/checkpoint-18500/pytorch_model.bin\n",
      "The following columns in the evaluation set  don't have a corresponding argument in `BertForSequenceClassification.forward` and have been ignored: id, document.\n",
      "***** Running Evaluation *****\n",
      "  Num examples = 15000\n",
      "  Batch size = 32\n",
      "Saving model checkpoint to /aiffel/aiffel/huggingface/checkpoints/checkpoint-19000\n",
      "Configuration saved in /aiffel/aiffel/huggingface/checkpoints/checkpoint-19000/config.json\n",
      "Model weights saved in /aiffel/aiffel/huggingface/checkpoints/checkpoint-19000/pytorch_model.bin\n",
      "The following columns in the evaluation set  don't have a corresponding argument in `BertForSequenceClassification.forward` and have been ignored: id, document.\n",
      "***** Running Evaluation *****\n",
      "  Num examples = 15000\n",
      "  Batch size = 32\n",
      "Saving model checkpoint to /aiffel/aiffel/huggingface/checkpoints/checkpoint-19500\n",
      "Configuration saved in /aiffel/aiffel/huggingface/checkpoints/checkpoint-19500/config.json\n",
      "Model weights saved in /aiffel/aiffel/huggingface/checkpoints/checkpoint-19500/pytorch_model.bin\n",
      "The following columns in the evaluation set  don't have a corresponding argument in `BertForSequenceClassification.forward` and have been ignored: id, document.\n",
      "***** Running Evaluation *****\n",
      "  Num examples = 15000\n",
      "  Batch size = 32\n",
      "Saving model checkpoint to /aiffel/aiffel/huggingface/checkpoints/checkpoint-20000\n",
      "Configuration saved in /aiffel/aiffel/huggingface/checkpoints/checkpoint-20000/config.json\n",
      "Model weights saved in /aiffel/aiffel/huggingface/checkpoints/checkpoint-20000/pytorch_model.bin\n",
      "The following columns in the evaluation set  don't have a corresponding argument in `BertForSequenceClassification.forward` and have been ignored: id, document.\n",
      "***** Running Evaluation *****\n",
      "  Num examples = 15000\n",
      "  Batch size = 32\n",
      "Saving model checkpoint to /aiffel/aiffel/huggingface/checkpoints/checkpoint-20500\n",
      "Configuration saved in /aiffel/aiffel/huggingface/checkpoints/checkpoint-20500/config.json\n",
      "Model weights saved in /aiffel/aiffel/huggingface/checkpoints/checkpoint-20500/pytorch_model.bin\n",
      "The following columns in the evaluation set  don't have a corresponding argument in `BertForSequenceClassification.forward` and have been ignored: id, document.\n",
      "***** Running Evaluation *****\n",
      "  Num examples = 15000\n",
      "  Batch size = 32\n",
      "Saving model checkpoint to /aiffel/aiffel/huggingface/checkpoints/checkpoint-21000\n",
      "Configuration saved in /aiffel/aiffel/huggingface/checkpoints/checkpoint-21000/config.json\n",
      "Model weights saved in /aiffel/aiffel/huggingface/checkpoints/checkpoint-21000/pytorch_model.bin\n",
      "The following columns in the evaluation set  don't have a corresponding argument in `BertForSequenceClassification.forward` and have been ignored: id, document.\n",
      "***** Running Evaluation *****\n",
      "  Num examples = 15000\n",
      "  Batch size = 32\n",
      "Saving model checkpoint to /aiffel/aiffel/huggingface/checkpoints/checkpoint-21500\n",
      "Configuration saved in /aiffel/aiffel/huggingface/checkpoints/checkpoint-21500/config.json\n",
      "Model weights saved in /aiffel/aiffel/huggingface/checkpoints/checkpoint-21500/pytorch_model.bin\n",
      "The following columns in the evaluation set  don't have a corresponding argument in `BertForSequenceClassification.forward` and have been ignored: id, document.\n",
      "***** Running Evaluation *****\n",
      "  Num examples = 15000\n",
      "  Batch size = 32\n",
      "Saving model checkpoint to /aiffel/aiffel/huggingface/checkpoints/checkpoint-22000\n",
      "Configuration saved in /aiffel/aiffel/huggingface/checkpoints/checkpoint-22000/config.json\n",
      "Model weights saved in /aiffel/aiffel/huggingface/checkpoints/checkpoint-22000/pytorch_model.bin\n",
      "The following columns in the evaluation set  don't have a corresponding argument in `BertForSequenceClassification.forward` and have been ignored: id, document.\n",
      "***** Running Evaluation *****\n",
      "  Num examples = 15000\n",
      "  Batch size = 32\n",
      "Saving model checkpoint to /aiffel/aiffel/huggingface/checkpoints/checkpoint-22500\n",
      "Configuration saved in /aiffel/aiffel/huggingface/checkpoints/checkpoint-22500/config.json\n",
      "Model weights saved in /aiffel/aiffel/huggingface/checkpoints/checkpoint-22500/pytorch_model.bin\n",
      "The following columns in the evaluation set  don't have a corresponding argument in `BertForSequenceClassification.forward` and have been ignored: id, document.\n",
      "***** Running Evaluation *****\n",
      "  Num examples = 15000\n",
      "  Batch size = 32\n",
      "Saving model checkpoint to /aiffel/aiffel/huggingface/checkpoints/checkpoint-23000\n",
      "Configuration saved in /aiffel/aiffel/huggingface/checkpoints/checkpoint-23000/config.json\n",
      "Model weights saved in /aiffel/aiffel/huggingface/checkpoints/checkpoint-23000/pytorch_model.bin\n",
      "The following columns in the evaluation set  don't have a corresponding argument in `BertForSequenceClassification.forward` and have been ignored: id, document.\n",
      "***** Running Evaluation *****\n",
      "  Num examples = 15000\n",
      "  Batch size = 32\n",
      "Saving model checkpoint to /aiffel/aiffel/huggingface/checkpoints/checkpoint-23500\n",
      "Configuration saved in /aiffel/aiffel/huggingface/checkpoints/checkpoint-23500/config.json\n",
      "Model weights saved in /aiffel/aiffel/huggingface/checkpoints/checkpoint-23500/pytorch_model.bin\n",
      "The following columns in the evaluation set  don't have a corresponding argument in `BertForSequenceClassification.forward` and have been ignored: id, document.\n",
      "***** Running Evaluation *****\n",
      "  Num examples = 15000\n",
      "  Batch size = 32\n",
      "Saving model checkpoint to /aiffel/aiffel/huggingface/checkpoints/checkpoint-24000\n",
      "Configuration saved in /aiffel/aiffel/huggingface/checkpoints/checkpoint-24000/config.json\n",
      "Model weights saved in /aiffel/aiffel/huggingface/checkpoints/checkpoint-24000/pytorch_model.bin\n",
      "The following columns in the evaluation set  don't have a corresponding argument in `BertForSequenceClassification.forward` and have been ignored: id, document.\n",
      "***** Running Evaluation *****\n",
      "  Num examples = 15000\n",
      "  Batch size = 32\n",
      "Saving model checkpoint to /aiffel/aiffel/huggingface/checkpoints/checkpoint-24500\n",
      "Configuration saved in /aiffel/aiffel/huggingface/checkpoints/checkpoint-24500/config.json\n",
      "Model weights saved in /aiffel/aiffel/huggingface/checkpoints/checkpoint-24500/pytorch_model.bin\n",
      "The following columns in the evaluation set  don't have a corresponding argument in `BertForSequenceClassification.forward` and have been ignored: id, document.\n"
     ]
    },
    {
     "name": "stderr",
     "output_type": "stream",
     "text": [
      "***** Running Evaluation *****\n",
      "  Num examples = 15000\n",
      "  Batch size = 32\n",
      "Saving model checkpoint to /aiffel/aiffel/huggingface/checkpoints/checkpoint-25000\n",
      "Configuration saved in /aiffel/aiffel/huggingface/checkpoints/checkpoint-25000/config.json\n",
      "Model weights saved in /aiffel/aiffel/huggingface/checkpoints/checkpoint-25000/pytorch_model.bin\n",
      "\n",
      "\n",
      "Training completed. Do not forget to share your model on huggingface.co/models =)\n",
      "\n",
      "\n",
      "Loading best model from /aiffel/aiffel/huggingface/checkpoints/checkpoint-12500 (score: 0.907).\n"
     ]
    },
    {
     "data": {
      "text/plain": [
       "TrainOutput(global_step=25314, training_loss=0.13225073086157732, metrics={'train_runtime': 7801.9596, 'train_samples_per_second': 103.82, 'train_steps_per_second': 3.245, 'total_flos': 9769070930012640.0, 'train_loss': 0.13225073086157732, 'epoch': 6.0})"
      ]
     },
     "execution_count": 59,
     "metadata": {},
     "output_type": "execute_result"
    }
   ],
   "source": [
    "tiny_hf_test_dataset = hf_test_dataset.shuffle(seed=42).shard(50, 1)\n",
    "\n",
    "trainer = Trainer(\n",
    "    model = huggingface_model,           # 학습시킬 model\n",
    "    args = training_arguments,           # TrainingArguments을 통해 설정한 arguments\n",
    "    train_dataset = hf_train_no_pad,    # training dataset\n",
    "    eval_dataset = hf_eval_no_pad,       # evaluation dataset\n",
    "    compute_metrics = compute_metrics,\n",
    "    data_collator = nsmc_collator,          ### dynamic padding 적용\n",
    ")\n",
    "trainer.train()"
   ]
  },
  {
   "cell_type": "code",
   "execution_count": 60,
   "id": "8de00442",
   "metadata": {
    "scrolled": true
   },
   "outputs": [
    {
     "name": "stderr",
     "output_type": "stream",
     "text": [
      "The following columns in the evaluation set  don't have a corresponding argument in `BertForSequenceClassification.forward` and have been ignored: id, document.\n",
      "***** Running Evaluation *****\n",
      "  Num examples = 50000\n",
      "  Batch size = 32\n"
     ]
    },
    {
     "data": {
      "text/html": [
       "\n",
       "    <div>\n",
       "      \n",
       "      <progress value='1563' max='1563' style='width:300px; height:20px; vertical-align: middle;'></progress>\n",
       "      [1563/1563 03:40]\n",
       "    </div>\n",
       "    "
      ],
      "text/plain": [
       "<IPython.core.display.HTML object>"
      ]
     },
     "metadata": {},
     "output_type": "display_data"
    },
    {
     "data": {
      "text/plain": [
       "{'eval_loss': 0.30371561646461487,\n",
       " 'eval_accuracy': 0.90266,\n",
       " 'eval_runtime': 220.7829,\n",
       " 'eval_samples_per_second': 226.467,\n",
       " 'eval_steps_per_second': 7.079,\n",
       " 'epoch': 6.0}"
      ]
     },
     "execution_count": 60,
     "metadata": {},
     "output_type": "execute_result"
    }
   ],
   "source": [
    "trainer.evaluate(hf_test_no_pad)"
   ]
  },
  {
   "cell_type": "markdown",
   "id": "9b56917f",
   "metadata": {},
   "source": [
    "#### 모델 훈련 결과 시각화"
   ]
  },
  {
   "cell_type": "code",
   "execution_count": 23,
   "id": "4f6a4364",
   "metadata": {},
   "outputs": [],
   "source": [
    "raw_result = \\\n",
    "\"\"\"Step\tTraining Loss\tValidation Loss\tAccuracy\n",
    "500\t0.360400\t0.297157\t0.875933\n",
    "1000\t0.296200\t0.272167\t0.886933\n",
    "1500\t0.292700\t0.279466\t0.882467\n",
    "2000\t0.286800\t0.255266\t0.893867\n",
    "2500\t0.265300\t0.325775\t0.876067\n",
    "3000\t0.266300\t0.248086\t0.899000\n",
    "3500\t0.258500\t0.259056\t0.894667\n",
    "4000\t0.254600\t0.234062\t0.904667\n",
    "4500\t0.215500\t0.263421\t0.903800\n",
    "5000\t0.185400\t0.256369\t0.904267\n",
    "5500\t0.193600\t0.260506\t0.903133\n",
    "6000\t0.192500\t0.254415\t0.903867\n",
    "6500\t0.191000\t0.253726\t0.906067\n",
    "7000\t0.186800\t0.250822\t0.905867\n",
    "7500\t0.191500\t0.249668\t0.905133\n",
    "8000\t0.190500\t0.274078\t0.900600\n",
    "8500\t0.177900\t0.289298\t0.906733\n",
    "9000\t0.125000\t0.296713\t0.905800\n",
    "9500\t0.121900\t0.303162\t0.904667\n",
    "10000\t0.123200\t0.306000\t0.905800\n",
    "10500\t0.130600\t0.296312\t0.906000\n",
    "11000\t0.123800\t0.347967\t0.904667\n",
    "11500\t0.132800\t0.286212\t0.904867\n",
    "12000\t0.137500\t0.278359\t0.904733\n",
    "12500\t0.130800\t0.297468\t0.907000\n",
    "13000\t0.097000\t0.419716\t0.898600\n",
    "13500\t0.081900\t0.400929\t0.904933\n",
    "14000\t0.089900\t0.414584\t0.905000\n",
    "14500\t0.089200\t0.367197\t0.902000\n",
    "15000\t0.085600\t0.380394\t0.903800\n",
    "15500\t0.089500\t0.399415\t0.904133\n",
    "16000\t0.082600\t0.417932\t0.902400\n",
    "16500\t0.089000\t0.414495\t0.900000\n",
    "17000\t0.079600\t0.426073\t0.903133\n",
    "17500\t0.057400\t0.465181\t0.903467\n",
    "18000\t0.058700\t0.493871\t0.901000\n",
    "18500\t0.065000\t0.484014\t0.902067\n",
    "19000\t0.059700\t0.489723\t0.902733\n",
    "19500\t0.060200\t0.488482\t0.901867\n",
    "20000\t0.060000\t0.503706\t0.901733\n",
    "20500\t0.063600\t0.481040\t0.902333\n",
    "21000\t0.064100\t0.479002\t0.905067\n",
    "21500\t0.048000\t0.512420\t0.902467\n",
    "22000\t0.047800\t0.531776\t0.902533\n",
    "22500\t0.048500\t0.529628\t0.902733\n",
    "23000\t0.042400\t0.547974\t0.902800\n",
    "23500\t0.045300\t0.546529\t0.901333\n",
    "24000\t0.041600\t0.550550\t0.902400\n",
    "24500\t0.045900\t0.551643\t0.902533\n",
    "25000\t0.041900\t0.548875\t0.902600\"\"\""
   ]
  },
  {
   "cell_type": "code",
   "execution_count": 15,
   "id": "c0e78be4",
   "metadata": {},
   "outputs": [],
   "source": [
    "result_lines = raw_result.split('\\n')"
   ]
  },
  {
   "cell_type": "code",
   "execution_count": 18,
   "id": "281b1027",
   "metadata": {},
   "outputs": [],
   "source": [
    "heads = result_lines[0].split('\\t')\n",
    "train_result = {}\n",
    "for ln in result_lines[1:]:\n",
    "    for i, v in enumerate(ln.split('\\t')):\n",
    "        pts = train_result.setdefault(heads[i], [])\n",
    "        pts.append(float(v))"
   ]
  },
  {
   "cell_type": "code",
   "execution_count": 22,
   "id": "ecc0db55",
   "metadata": {},
   "outputs": [
    {
     "data": {
      "image/png": "[encoded data removed]",
      "text/plain": [
       "<Figure size 864x288 with 2 Axes>"
      ]
     },
     "metadata": {
      "needs_background": "light"
     },
     "output_type": "display_data"
    }
   ],
   "source": [
    "# training result; Training Loss, Validation Loss, Accuracy\n",
    "plt.figure(figsize=(12, 4))\n",
    "\n",
    "plt.subplot(1, 2, 1)\n",
    "key = 'Training Loss'\n",
    "plt.plot(train_result[key], 'b-', label=key)\n",
    "key = 'Validation Loss'\n",
    "plt.plot(train_result[key], 'r-', label=key)\n",
    "plt.xlabel('500 steps (32 samples per batch)')\n",
    "plt.legend()\n",
    "\n",
    "plt.subplot(1, 2, 2); key = 'Accuracy'\n",
    "plt.plot(train_result[key], 'g-', label=key)\n",
    "plt.xlabel('500 steps (32 samples per batch)')\n",
    "plt.legend()\n",
    "\n",
    "plt.show()"
   ]
  }
 ],
 "metadata": {
  "kernelspec": {
   "display_name": "Python 3 (ipykernel)",
   "language": "python",
   "name": "python3"
  },
  "language_info": {
   "codemirror_mode": {
    "name": "ipython",
    "version": 3
   },
   "file_extension": ".py",
   "mimetype": "text/x-python",
   "name": "python",
   "nbconvert_exporter": "python",
   "pygments_lexer": "ipython3",
   "version": "3.9.7"
  }
 },
 "nbformat": 4,
 "nbformat_minor": 5
}
